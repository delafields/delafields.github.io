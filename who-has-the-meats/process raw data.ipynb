{
 "cells": [
  {
   "cell_type": "code",
   "execution_count": 2,
   "source": [
    "import pandas as pd\r\n",
    "\r\n",
    "beef_file       = \"data/raw/BeefVeal_YearlyFull.xlsx\"\r\n",
    "cattle_file     = \"data/raw/Cattle_YearlyFull.xlsx\"\r\n",
    "pork_file       = \"data/raw/Pork_YearlyFull.xlsx\"\r\n",
    "poultry_file    = \"data/raw/BroilerTurkey_YearlyFull.xlsx\"\r\n",
    "population_file = \"data/raw/POPULATION.xlsx\""
   ],
   "outputs": [],
   "metadata": {}
  },
  {
   "cell_type": "markdown",
   "source": [
    "# Doin up the data"
   ],
   "metadata": {}
  },
  {
   "cell_type": "code",
   "execution_count": 3,
   "source": [
    "population = pd.read_excel(population_file, skiprows=1)\r\n",
    "population = population[population[\"Region-subregion-country\"] == \"United States of America\"] \\\r\n",
    "                       .drop(columns=[\"Index\", \"Variant\", \"Country code\", \"Type\", \"Parent code\"]) \\\r\n",
    "                       .rename(columns={\"Region-subregion-country\": \"country\"}) \\\r\n",
    "                       .transpose() \\\r\n",
    "                       .reset_index()\r\n",
    "\r\n",
    "population.columns = [\"year\", \"population\"]\r\n",
    "population = population.drop(population.index[0])\r\n",
    "population.year = population.year.astype(int)\r\n",
    "\r\n",
    "population = population[population.year >= 1989]\r\n",
    "\r\n",
    "population.head()"
   ],
   "outputs": [
    {
     "output_type": "execute_result",
     "data": {
      "text/html": [
       "<div>\n",
       "<style scoped>\n",
       "    .dataframe tbody tr th:only-of-type {\n",
       "        vertical-align: middle;\n",
       "    }\n",
       "\n",
       "    .dataframe tbody tr th {\n",
       "        vertical-align: top;\n",
       "    }\n",
       "\n",
       "    .dataframe thead th {\n",
       "        text-align: right;\n",
       "    }\n",
       "</style>\n",
       "<table border=\"1\" class=\"dataframe\">\n",
       "  <thead>\n",
       "    <tr style=\"text-align: right;\">\n",
       "      <th></th>\n",
       "      <th>year</th>\n",
       "      <th>population</th>\n",
       "    </tr>\n",
       "  </thead>\n",
       "  <tbody>\n",
       "    <tr>\n",
       "      <th>40</th>\n",
       "      <td>1989</td>\n",
       "      <td>249726</td>\n",
       "    </tr>\n",
       "    <tr>\n",
       "      <th>41</th>\n",
       "      <td>1990</td>\n",
       "      <td>252120</td>\n",
       "    </tr>\n",
       "    <tr>\n",
       "      <th>42</th>\n",
       "      <td>1991</td>\n",
       "      <td>254539</td>\n",
       "    </tr>\n",
       "    <tr>\n",
       "      <th>43</th>\n",
       "      <td>1992</td>\n",
       "      <td>256991</td>\n",
       "    </tr>\n",
       "    <tr>\n",
       "      <th>44</th>\n",
       "      <td>1993</td>\n",
       "      <td>259532</td>\n",
       "    </tr>\n",
       "  </tbody>\n",
       "</table>\n",
       "</div>"
      ],
      "text/plain": [
       "    year population\n",
       "40  1989     249726\n",
       "41  1990     252120\n",
       "42  1991     254539\n",
       "43  1992     256991\n",
       "44  1993     259532"
      ]
     },
     "metadata": {},
     "execution_count": 3
    }
   ],
   "metadata": {}
  },
  {
   "cell_type": "code",
   "execution_count": 4,
   "source": [
    "# filter to Totals\r\n",
    "# drop extraneous columns\r\n",
    "# rename col name -> country\r\n",
    "# rename livestock values\r\n",
    "\r\n",
    "cattle = pd.read_excel(cattle_file, skiprows=1)\r\n",
    "cattle = cattle[(cattle[\"Import/export\"] == \"Cattle imports, total\") & (cattle[\"name\"] == \"Total\\n \")] \\\r\n",
    "               .drop(columns=[\"geography code\", \"Jan-Jul 20\", \"Jan-Jul 21\"]) \\\r\n",
    "               .rename(columns={\"name\": \"country\"}) \\\r\n",
    "               .replace({\"Total\\n \": \"Total\", \"Cattle imports, total\": \"Cattle\"}) \\\r\n",
    "               .transpose() \\\r\n",
    "               .reset_index()\r\n",
    "\r\n",
    "pork = pd.read_excel(pork_file, skiprows=1)\r\n",
    "pork = pork[(pork[\"Import/export\"] == \"Pork imports\") & (pork[\"name\"] == \"Total\\n \")] \\\r\n",
    "           .drop(columns=[\"geography code\", \"Jan-Jul 20\", \"Jan-Jul 21\"]) \\\r\n",
    "           .rename(columns={\"name\": \"country\"}) \\\r\n",
    "           .replace({\"Total\\n \": \"Total\", \"Pork imports\": \"Pork\"}) \\\r\n",
    "           .transpose() \\\r\n",
    "           .reset_index()\r\n",
    "\r\n",
    "poultry = pd.read_excel(poultry_file, skiprows=1)\r\n",
    "poultry = poultry[(poultry[\"Import/export\"] == \"Broiler imports (1,000 pounds)\") & (poultry[\"name\"] == \"Total\\n \")] \\\r\n",
    "                 .drop(columns=[\"geography code\", \"Jan-Jul 20\", \"Jan-Jul 21\"]) \\\r\n",
    "                 .rename(columns={\"name\": \"country\"}) \\\r\n",
    "                 .replace({\"Total\\n \": \"Total\", \"Broiler imports (1,000 pounds)\": \"Poultry\"}) \\\r\n",
    "                 .transpose() \\\r\n",
    "                 .reset_index()\r\n",
    "\r\n",
    "poultry.head(1)"
   ],
   "outputs": [
    {
     "output_type": "execute_result",
     "data": {
      "text/html": [
       "<div>\n",
       "<style scoped>\n",
       "    .dataframe tbody tr th:only-of-type {\n",
       "        vertical-align: middle;\n",
       "    }\n",
       "\n",
       "    .dataframe tbody tr th {\n",
       "        vertical-align: top;\n",
       "    }\n",
       "\n",
       "    .dataframe thead th {\n",
       "        text-align: right;\n",
       "    }\n",
       "</style>\n",
       "<table border=\"1\" class=\"dataframe\">\n",
       "  <thead>\n",
       "    <tr style=\"text-align: right;\">\n",
       "      <th></th>\n",
       "      <th>index</th>\n",
       "      <th>10</th>\n",
       "    </tr>\n",
       "  </thead>\n",
       "  <tbody>\n",
       "    <tr>\n",
       "      <th>0</th>\n",
       "      <td>Import/export</td>\n",
       "      <td>Poultry</td>\n",
       "    </tr>\n",
       "  </tbody>\n",
       "</table>\n",
       "</div>"
      ],
      "text/plain": [
       "           index       10\n",
       "0  Import/export  Poultry"
      ]
     },
     "metadata": {},
     "execution_count": 4
    }
   ],
   "metadata": {}
  },
  {
   "cell_type": "code",
   "execution_count": 5,
   "source": [
    "# transpose (wide to long) and remove resulting bad rows, rename headers\r\n",
    "cattle.columns = [\"year\", \"pounds\"]\r\n",
    "cattle = cattle.drop(cattle.index[0:2])\r\n",
    "\r\n",
    "pork.columns = [\"year\", \"pounds\"]\r\n",
    "pork = pork.drop(pork.index[0:2])\r\n",
    "\r\n",
    "poultry.columns = [\"year\", \"pounds\"]\r\n",
    "poultry = poultry.drop(poultry.index[0:2])\r\n",
    "\r\n",
    "poultry.head(1)"
   ],
   "outputs": [
    {
     "output_type": "execute_result",
     "data": {
      "text/html": [
       "<div>\n",
       "<style scoped>\n",
       "    .dataframe tbody tr th:only-of-type {\n",
       "        vertical-align: middle;\n",
       "    }\n",
       "\n",
       "    .dataframe tbody tr th {\n",
       "        vertical-align: top;\n",
       "    }\n",
       "\n",
       "    .dataframe thead th {\n",
       "        text-align: right;\n",
       "    }\n",
       "</style>\n",
       "<table border=\"1\" class=\"dataframe\">\n",
       "  <thead>\n",
       "    <tr style=\"text-align: right;\">\n",
       "      <th></th>\n",
       "      <th>year</th>\n",
       "      <th>pounds</th>\n",
       "    </tr>\n",
       "  </thead>\n",
       "  <tbody>\n",
       "    <tr>\n",
       "      <th>2</th>\n",
       "      <td>1989</td>\n",
       "      <td>876.586</td>\n",
       "    </tr>\n",
       "  </tbody>\n",
       "</table>\n",
       "</div>"
      ],
      "text/plain": [
       "   year   pounds\n",
       "2  1989  876.586"
      ]
     },
     "metadata": {},
     "execution_count": 5
    }
   ],
   "metadata": {}
  },
  {
   "cell_type": "code",
   "execution_count": 6,
   "source": [
    "# set pounds column to a float\r\n",
    "cattle.pounds = cattle.pounds.astype(float)\r\n",
    "pork.pounds = pork.pounds.astype(float)\r\n",
    "poultry.pounds = poultry.pounds.astype(float)\r\n",
    "\r\n",
    "poultry.head(1)"
   ],
   "outputs": [
    {
     "output_type": "execute_result",
     "data": {
      "text/html": [
       "<div>\n",
       "<style scoped>\n",
       "    .dataframe tbody tr th:only-of-type {\n",
       "        vertical-align: middle;\n",
       "    }\n",
       "\n",
       "    .dataframe tbody tr th {\n",
       "        vertical-align: top;\n",
       "    }\n",
       "\n",
       "    .dataframe thead th {\n",
       "        text-align: right;\n",
       "    }\n",
       "</style>\n",
       "<table border=\"1\" class=\"dataframe\">\n",
       "  <thead>\n",
       "    <tr style=\"text-align: right;\">\n",
       "      <th></th>\n",
       "      <th>year</th>\n",
       "      <th>pounds</th>\n",
       "    </tr>\n",
       "  </thead>\n",
       "  <tbody>\n",
       "    <tr>\n",
       "      <th>2</th>\n",
       "      <td>1989</td>\n",
       "      <td>876.586367</td>\n",
       "    </tr>\n",
       "  </tbody>\n",
       "</table>\n",
       "</div>"
      ],
      "text/plain": [
       "   year      pounds\n",
       "2  1989  876.586367"
      ]
     },
     "metadata": {},
     "execution_count": 6
    }
   ],
   "metadata": {}
  },
  {
   "cell_type": "code",
   "execution_count": 7,
   "source": [
    "# convert year to datetime\r\n",
    "population[\"year (dt)\"] = population.year.apply(pd.to_datetime)\r\n",
    "cattle[\"year (dt)\"] = cattle.year.apply(pd.to_datetime)\r\n",
    "pork[\"year (dt)\"] = pork.year.apply(pd.to_datetime)\r\n",
    "poultry[\"year (dt)\"] = poultry.year.apply(pd.to_datetime)\r\n",
    "\r\n",
    "population = population[[\"year\", \"year (dt)\", \"population\"]]\r\n",
    "cattle = cattle[[\"year\", \"year (dt)\", \"pounds\"]]\r\n",
    "pork = pork[[\"year\", \"year (dt)\", \"pounds\"]]\r\n",
    "poultry = poultry[[\"year\", \"year (dt)\", \"pounds\"]]\r\n",
    "\r\n",
    "poultry.head(1)"
   ],
   "outputs": [
    {
     "output_type": "execute_result",
     "data": {
      "text/html": [
       "<div>\n",
       "<style scoped>\n",
       "    .dataframe tbody tr th:only-of-type {\n",
       "        vertical-align: middle;\n",
       "    }\n",
       "\n",
       "    .dataframe tbody tr th {\n",
       "        vertical-align: top;\n",
       "    }\n",
       "\n",
       "    .dataframe thead th {\n",
       "        text-align: right;\n",
       "    }\n",
       "</style>\n",
       "<table border=\"1\" class=\"dataframe\">\n",
       "  <thead>\n",
       "    <tr style=\"text-align: right;\">\n",
       "      <th></th>\n",
       "      <th>year</th>\n",
       "      <th>year (dt)</th>\n",
       "      <th>pounds</th>\n",
       "    </tr>\n",
       "  </thead>\n",
       "  <tbody>\n",
       "    <tr>\n",
       "      <th>2</th>\n",
       "      <td>1989</td>\n",
       "      <td>1989-01-01</td>\n",
       "      <td>876.586367</td>\n",
       "    </tr>\n",
       "  </tbody>\n",
       "</table>\n",
       "</div>"
      ],
      "text/plain": [
       "   year  year (dt)      pounds\n",
       "2  1989 1989-01-01  876.586367"
      ]
     },
     "metadata": {},
     "execution_count": 7
    }
   ],
   "metadata": {}
  },
  {
   "cell_type": "markdown",
   "source": [
    "# Save the data"
   ],
   "metadata": {}
  },
  {
   "cell_type": "code",
   "execution_count": 31,
   "source": [
    "with pd.ExcelWriter('data/processed/processed_livestock_data.xlsx') as writer:\r\n",
    "    population.to_excel(writer, sheet_name = 'population', index = False)\r\n",
    "    poultry.to_excel(writer, sheet_name = 'poultry', index = False)\r\n",
    "    cattle.to_excel(writer, sheet_name = 'cattle', index = False)\r\n",
    "    pork.to_excel(writer, sheet_name = 'pork', index = False)"
   ],
   "outputs": [],
   "metadata": {}
  }
 ],
 "metadata": {
  "orig_nbformat": 4,
  "language_info": {
   "name": "python",
   "version": "3.7.6",
   "mimetype": "text/x-python",
   "codemirror_mode": {
    "name": "ipython",
    "version": 3
   },
   "pygments_lexer": "ipython3",
   "nbconvert_exporter": "python",
   "file_extension": ".py"
  },
  "kernelspec": {
   "name": "python3",
   "display_name": "Python 3.7.6 64-bit ('base': conda)"
  },
  "interpreter": {
   "hash": "ccbba38901ec24f44857db8fbdc80adc76ee2162a7438bd46412d47e74351045"
  }
 },
 "nbformat": 4,
 "nbformat_minor": 2
}