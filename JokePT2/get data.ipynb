{
 "cells": [
  {
   "cell_type": "markdown",
   "source": [
    "## Pulling Yo momma jokes from the internet\r\n",
    "\r\n",
    "Taking four different sources and standardizing them for training on a GPT-2 model"
   ],
   "metadata": {}
  },
  {
   "cell_type": "code",
   "execution_count": 1,
   "source": [
    "import requests\r\n",
    "import pandas as pd\r\n",
    "from bs4 import BeautifulSoup\r\n",
    "import re"
   ],
   "outputs": [],
   "metadata": {}
  },
  {
   "cell_type": "markdown",
   "source": [
    "Source \"A Prarie Home Companion\" (lol): https://www.prairiehome.org/story/1997/04/05/yo-mama-jokes.html"
   ],
   "metadata": {}
  },
  {
   "cell_type": "code",
   "execution_count": 40,
   "source": [
    "prarie_page = requests.get(\"https://www.prairiehome.org/story/1997/04/05/yo-mama-jokes.html\")\r\n",
    "\r\n",
    "soup = BeautifulSoup(prarie_page.text, 'html.parser')\r\n",
    "text = soup.find(\"blockquote\").findChildren(\"p\", recursive=False)\r\n",
    "\r\n",
    "prarie_jokes = {\"source\": [], \"ym_joke\": []}\r\n",
    "\r\n",
    "for ym_joke in text:\r\n",
    "\r\n",
    "    joke = ym_joke.get_text().replace('\"', \"\")\r\n",
    "\r\n",
    "    if \"momma\" in joke:\r\n",
    "        prarie_jokes[\"source\"].append(\"prarie home\")\r\n",
    "        prarie_jokes[\"ym_joke\"].append(joke)\r\n",
    "\r\n",
    "prarie = pd.DataFrame.from_dict(prarie_jokes)\r\n",
    "\r\n",
    "prarie[\"ym_joke\"] = prarie[\"ym_joke\"].str.replace(\"momma's\", \"momma\")\r\n",
    "\r\n",
    "prarie.to_csv(\"data/prarie_ym_jokes.csv\", index=False)"
   ],
   "outputs": [],
   "metadata": {}
  },
  {
   "cell_type": "markdown",
   "source": [
    "Source \"yomomma-api\": https://github.com/rdegges/yomomma-api/blob/master/jokes.txt"
   ],
   "metadata": {}
  },
  {
   "cell_type": "code",
   "execution_count": 37,
   "source": [
    "ym_api = pd.read_html(\"https://github.com/rdegges/yomomma-api/blob/master/jokes.txt\")[0] \\\r\n",
    "           .reset_index() \\\r\n",
    "           .drop(columns={\"index\"}) \\\r\n",
    "           .rename(columns={0: \"source\", 1: \"ym_joke\"})\r\n",
    "\r\n",
    "ym_api[\"source\"] = \"ym api\"\r\n",
    "\r\n",
    "# standardize lingo\r\n",
    "ym_api[\"ym_joke\"] = ym_api[\"ym_joke\"].str.replace(\"mama\", \"momma\", regex=True, flags=re.IGNORECASE)\r\n",
    "ym_api[\"ym_joke\"] = ym_api[\"ym_joke\"].str.replace(\"Momma's\", \"momma\", regex=True, flags=re.IGNORECASE)\r\n",
    "ym_api[\"ym_joke\"] = ym_api[\"ym_joke\"].str.replace(\"mommags\", \"momma\")\r\n",
    "\r\n",
    "ym_api = ym_api[ym_api[\"ym_joke\"].str.startswith(\"Yo \")]\r\n",
    "\r\n",
    "ym_api.to_csv(\"data/ym_api_jokes.csv\", index=False)"
   ],
   "outputs": [],
   "metadata": {}
  },
  {
   "cell_type": "markdown",
   "source": [
    "Source: \"IRC-Bot\": https://github.com/iambibhas/IRC-Bot/blob/master/insults.txt"
   ],
   "metadata": {}
  },
  {
   "cell_type": "code",
   "execution_count": 39,
   "source": [
    "irc_bot = pd.read_html(\"https://github.com/iambibhas/IRC-Bot/blob/master/insults.txt\")[0] \\\r\n",
    "            .reset_index() \\\r\n",
    "            .drop(columns={\"index\"}) \\\r\n",
    "            .rename(columns={0: \"source\", 1: \"ym_joke\"})\r\n",
    "\r\n",
    "irc_bot[\"source\"] = \"irc bot\"\r\n",
    "\r\n",
    "irc_bot = irc_bot[irc_bot[\"ym_joke\"].str.contains(\"(mom|mam)\", flags=re.IGNORECASE, regex=True)]\r\n",
    "\r\n",
    "irc_bot[\"ym_joke\"] = irc_bot[\"ym_joke\"].str.replace(\"Your \", \"Yo \")\r\n",
    "irc_bot[\"ym_joke\"] = irc_bot[\"ym_joke\"].str.replace(\"You're \", \"Yo \")\r\n",
    "\r\n",
    "# regex is wonking out so...one for each!!\r\n",
    "irc_bot[\"ym_joke\"] = irc_bot[\"ym_joke\"].str.replace(\"mommas\", \"momma\")\r\n",
    "irc_bot[\"ym_joke\"] = irc_bot[\"ym_joke\"].str.replace(\"momma's\", \"momma\", flags=re.IGNORECASE, regex=True)\r\n",
    "irc_bot[\"ym_joke\"] = irc_bot[\"ym_joke\"].str.replace(\"mama's\", \"momma\", flags=re.IGNORECASE, regex=True)\r\n",
    "irc_bot[\"ym_joke\"] = irc_bot[\"ym_joke\"].str.replace(\"mama\", \"momma\", flags=re.IGNORECASE, regex=True)\r\n",
    "irc_bot[\"ym_joke\"] = irc_bot[\"ym_joke\"].str.replace(\"mamma's\", \"momma\", flags=re.IGNORECASE, regex=True)\r\n",
    "irc_bot[\"ym_joke\"] = irc_bot[\"ym_joke\"].str.replace(\"mamma\", \"momma\", flags=re.IGNORECASE, regex=True)\r\n",
    "irc_bot[\"ym_joke\"] = irc_bot[\"ym_joke\"].str.replace(\"Momma\", \"momma\")\r\n",
    "irc_bot[\"ym_joke\"] = irc_bot[\"ym_joke\"].str.replace(\"mom \", \"momma \")\r\n",
    "irc_bot[\"ym_joke\"] = irc_bot[\"ym_joke\"].str.replace(\"mom's\", \"momma\")\r\n",
    "\r\n",
    "irc_bot = irc_bot[irc_bot[\"ym_joke\"].str.startswith(\"Yo \")]\r\n",
    "\r\n",
    "irc_bot.to_csv(\"data/irc_bot_jokes.csv\", index=False)"
   ],
   "outputs": [
    {
     "output_type": "stream",
     "name": "stderr",
     "text": [
      "C:\\Users\\thugz\\Anaconda3\\lib\\site-packages\\pandas\\core\\strings.py:1952: UserWarning: This pattern has match groups. To actually get the groups, use str.extract.\n",
      "  return func(self, *args, **kwargs)\n"
     ]
    }
   ],
   "metadata": {}
  },
  {
   "cell_type": "markdown",
   "source": [
    "Source corz.org: https://corz.org/public/docs/miscy/insults.txt"
   ],
   "metadata": {}
  },
  {
   "cell_type": "code",
   "execution_count": 28,
   "source": [
    "corz_page = requests.get(\"https://corz.org/public/docs/miscy/insults.txt\")\r\n",
    "\r\n",
    "soup = BeautifulSoup(corz_page.content, 'html.parser')\r\n",
    "text = soup.find(\"div\", attrs={\"class\": \"textview-body\"})\r\n",
    "\r\n",
    "corz_jokes = {\"source\": [], \"ym_joke\": []}\r\n",
    "\r\n",
    "for line in text:\r\n",
    "    if \"mam\" in line or \"mom\" in line:\r\n",
    "        # replace latin nbsp\r\n",
    "        line = line.replace(\"\\n\", \"\").replace(u'\\xa0', u' ')\r\n",
    "        corz_jokes[\"source\"].append(\"corz\")\r\n",
    "        corz_jokes[\"ym_joke\"].append(line)\r\n",
    "\r\n",
    "corz = pd.DataFrame.from_dict(corz_jokes)\r\n",
    "\r\n",
    "# standardize the lingo\r\n",
    "corz[\"ym_joke\"] = corz[\"ym_joke\"].str.replace(\"mamma\", \"momma\")\r\n",
    "corz[\"ym_joke\"] = corz[\"ym_joke\"].str.replace(\"momma's\", \"momma\")\r\n",
    "\r\n",
    "corz[\"ym_joke\"] = corz[\"ym_joke\"].str.replace(\"your mom \", \"Yo momma \")\r\n",
    "corz[\"ym_joke\"] = corz[\"ym_joke\"].str.replace(\"Your momma \", \"Yo momma \")\r\n",
    "\r\n",
    "# remove truncated jokes and only grab yo momma jokes\r\n",
    "corz = corz[(corz[\"ym_joke\"].str.len() > 15) & (corz[\"ym_joke\"].str.startswith(\"Yo \"))]\r\n",
    "\r\n",
    "corz.to_csv(\"data/corz_ym_jokes.csv\", index=False)"
   ],
   "outputs": [],
   "metadata": {}
  },
  {
   "cell_type": "code",
   "execution_count": null,
   "source": [],
   "outputs": [],
   "metadata": {}
  }
 ],
 "metadata": {
  "orig_nbformat": 4,
  "language_info": {
   "name": "python",
   "version": "3.7.6",
   "mimetype": "text/x-python",
   "codemirror_mode": {
    "name": "ipython",
    "version": 3
   },
   "pygments_lexer": "ipython3",
   "nbconvert_exporter": "python",
   "file_extension": ".py"
  },
  "kernelspec": {
   "name": "python3",
   "display_name": "Python 3.7.6 64-bit ('base': conda)"
  },
  "interpreter": {
   "hash": "ccbba38901ec24f44857db8fbdc80adc76ee2162a7438bd46412d47e74351045"
  }
 },
 "nbformat": 4,
 "nbformat_minor": 2
}