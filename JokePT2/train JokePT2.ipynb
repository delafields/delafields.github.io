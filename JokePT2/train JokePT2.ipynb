{
  "nbformat": 4,
  "nbformat_minor": 2,
  "metadata": {
    "colab": {
      "name": "JokePT-2.ipynb",
      "provenance": [],
      "collapsed_sections": []
    },
    "kernelspec": {
      "name": "python3",
      "display_name": "Python 3.7.6 64-bit ('base': conda)"
    },
    "language_info": {
      "name": "python",
      "version": "3.7.6"
    },
    "accelerator": "GPU",
    "widgets": {
      "application/vnd.jupyter.widget-state+json": {
        "f0b2b60aa534436a856ad3f1c90a1e6b": {
          "model_module": "@jupyter-widgets/controls",
          "model_name": "HBoxModel",
          "model_module_version": "1.5.0",
          "state": {
            "_view_name": "HBoxView",
            "_dom_classes": [],
            "_model_name": "HBoxModel",
            "_view_module": "@jupyter-widgets/controls",
            "_model_module_version": "1.5.0",
            "_view_count": null,
            "_view_module_version": "1.5.0",
            "box_style": "",
            "layout": "IPY_MODEL_b37d3c9b86f54815bbea76dfc67393b5",
            "_model_module": "@jupyter-widgets/controls",
            "children": [
              "IPY_MODEL_4061220dd8994942b17f26b34579537a",
              "IPY_MODEL_d6c44e2cc7d64acda27a4e2dfa2ef750",
              "IPY_MODEL_33da1eacaa0949dbb5fe3cf37ae09862"
            ]
          }
        },
        "b37d3c9b86f54815bbea76dfc67393b5": {
          "model_module": "@jupyter-widgets/base",
          "model_name": "LayoutModel",
          "model_module_version": "1.2.0",
          "state": {
            "_view_name": "LayoutView",
            "grid_template_rows": null,
            "right": null,
            "justify_content": null,
            "_view_module": "@jupyter-widgets/base",
            "overflow": null,
            "_model_module_version": "1.2.0",
            "_view_count": null,
            "flex_flow": "row wrap",
            "width": "100%",
            "min_width": null,
            "border": null,
            "align_items": null,
            "bottom": null,
            "_model_module": "@jupyter-widgets/base",
            "top": null,
            "grid_column": null,
            "overflow_y": null,
            "overflow_x": null,
            "grid_auto_flow": null,
            "grid_area": null,
            "grid_template_columns": null,
            "flex": null,
            "_model_name": "LayoutModel",
            "justify_items": null,
            "grid_row": null,
            "max_height": null,
            "align_content": null,
            "visibility": null,
            "align_self": null,
            "height": null,
            "min_height": null,
            "padding": null,
            "grid_auto_rows": null,
            "grid_gap": null,
            "max_width": null,
            "order": null,
            "_view_module_version": "1.2.0",
            "grid_template_areas": null,
            "object_position": null,
            "object_fit": null,
            "grid_auto_columns": null,
            "margin": null,
            "display": "inline-flex",
            "left": null
          }
        },
        "4061220dd8994942b17f26b34579537a": {
          "model_module": "@jupyter-widgets/controls",
          "model_name": "HTMLModel",
          "model_module_version": "1.5.0",
          "state": {
            "_view_name": "HTMLView",
            "style": "IPY_MODEL_a29b5b28ab5b4437861c5d6385ee4019",
            "_dom_classes": [],
            "description": "",
            "_model_name": "HTMLModel",
            "placeholder": "​",
            "_view_module": "@jupyter-widgets/controls",
            "_model_module_version": "1.5.0",
            "value": "100%",
            "_view_count": null,
            "_view_module_version": "1.5.0",
            "description_tooltip": null,
            "_model_module": "@jupyter-widgets/controls",
            "layout": "IPY_MODEL_545457240eeb4218bdf42f4495ff584c"
          }
        },
        "d6c44e2cc7d64acda27a4e2dfa2ef750": {
          "model_module": "@jupyter-widgets/controls",
          "model_name": "FloatProgressModel",
          "model_module_version": "1.5.0",
          "state": {
            "_view_name": "ProgressView",
            "style": "IPY_MODEL_482ea9d6a2cc4ae9bac9e13eb021cd5d",
            "_dom_classes": [],
            "description": "",
            "_model_name": "FloatProgressModel",
            "bar_style": "success",
            "max": 373,
            "_view_module": "@jupyter-widgets/controls",
            "_model_module_version": "1.5.0",
            "value": 373,
            "_view_count": null,
            "_view_module_version": "1.5.0",
            "orientation": "horizontal",
            "min": 0,
            "description_tooltip": null,
            "_model_module": "@jupyter-widgets/controls",
            "layout": "IPY_MODEL_a6ffddf8f4844d43a8aaf2e8ac048c6f"
          }
        },
        "33da1eacaa0949dbb5fe3cf37ae09862": {
          "model_module": "@jupyter-widgets/controls",
          "model_name": "HTMLModel",
          "model_module_version": "1.5.0",
          "state": {
            "_view_name": "HTMLView",
            "style": "IPY_MODEL_66ef89fbcfa444418d3c5b6c90dec998",
            "_dom_classes": [],
            "description": "",
            "_model_name": "HTMLModel",
            "placeholder": "​",
            "_view_module": "@jupyter-widgets/controls",
            "_model_module_version": "1.5.0",
            "value": " 373/373 [00:00&lt;00:00, 3922.32it/s]",
            "_view_count": null,
            "_view_module_version": "1.5.0",
            "description_tooltip": null,
            "_model_module": "@jupyter-widgets/controls",
            "layout": "IPY_MODEL_63d9455e3f504d689186a0c6f930f6da"
          }
        },
        "a29b5b28ab5b4437861c5d6385ee4019": {
          "model_module": "@jupyter-widgets/controls",
          "model_name": "DescriptionStyleModel",
          "model_module_version": "1.5.0",
          "state": {
            "_view_name": "StyleView",
            "_model_name": "DescriptionStyleModel",
            "description_width": "",
            "_view_module": "@jupyter-widgets/base",
            "_model_module_version": "1.5.0",
            "_view_count": null,
            "_view_module_version": "1.2.0",
            "_model_module": "@jupyter-widgets/controls"
          }
        },
        "545457240eeb4218bdf42f4495ff584c": {
          "model_module": "@jupyter-widgets/base",
          "model_name": "LayoutModel",
          "model_module_version": "1.2.0",
          "state": {
            "_view_name": "LayoutView",
            "grid_template_rows": null,
            "right": null,
            "justify_content": null,
            "_view_module": "@jupyter-widgets/base",
            "overflow": null,
            "_model_module_version": "1.2.0",
            "_view_count": null,
            "flex_flow": null,
            "width": null,
            "min_width": null,
            "border": null,
            "align_items": null,
            "bottom": null,
            "_model_module": "@jupyter-widgets/base",
            "top": null,
            "grid_column": null,
            "overflow_y": null,
            "overflow_x": null,
            "grid_auto_flow": null,
            "grid_area": null,
            "grid_template_columns": null,
            "flex": null,
            "_model_name": "LayoutModel",
            "justify_items": null,
            "grid_row": null,
            "max_height": null,
            "align_content": null,
            "visibility": null,
            "align_self": null,
            "height": null,
            "min_height": null,
            "padding": null,
            "grid_auto_rows": null,
            "grid_gap": null,
            "max_width": null,
            "order": null,
            "_view_module_version": "1.2.0",
            "grid_template_areas": null,
            "object_position": null,
            "object_fit": null,
            "grid_auto_columns": null,
            "margin": null,
            "display": null,
            "left": null
          }
        },
        "482ea9d6a2cc4ae9bac9e13eb021cd5d": {
          "model_module": "@jupyter-widgets/controls",
          "model_name": "ProgressStyleModel",
          "model_module_version": "1.5.0",
          "state": {
            "_view_name": "StyleView",
            "_model_name": "ProgressStyleModel",
            "description_width": "",
            "_view_module": "@jupyter-widgets/base",
            "_model_module_version": "1.5.0",
            "_view_count": null,
            "_view_module_version": "1.2.0",
            "bar_color": null,
            "_model_module": "@jupyter-widgets/controls"
          }
        },
        "a6ffddf8f4844d43a8aaf2e8ac048c6f": {
          "model_module": "@jupyter-widgets/base",
          "model_name": "LayoutModel",
          "model_module_version": "1.2.0",
          "state": {
            "_view_name": "LayoutView",
            "grid_template_rows": null,
            "right": null,
            "justify_content": null,
            "_view_module": "@jupyter-widgets/base",
            "overflow": null,
            "_model_module_version": "1.2.0",
            "_view_count": null,
            "flex_flow": null,
            "width": null,
            "min_width": null,
            "border": null,
            "align_items": null,
            "bottom": null,
            "_model_module": "@jupyter-widgets/base",
            "top": null,
            "grid_column": null,
            "overflow_y": null,
            "overflow_x": null,
            "grid_auto_flow": null,
            "grid_area": null,
            "grid_template_columns": null,
            "flex": "2",
            "_model_name": "LayoutModel",
            "justify_items": null,
            "grid_row": null,
            "max_height": null,
            "align_content": null,
            "visibility": null,
            "align_self": null,
            "height": null,
            "min_height": null,
            "padding": null,
            "grid_auto_rows": null,
            "grid_gap": null,
            "max_width": null,
            "order": null,
            "_view_module_version": "1.2.0",
            "grid_template_areas": null,
            "object_position": null,
            "object_fit": null,
            "grid_auto_columns": null,
            "margin": null,
            "display": null,
            "left": null
          }
        },
        "66ef89fbcfa444418d3c5b6c90dec998": {
          "model_module": "@jupyter-widgets/controls",
          "model_name": "DescriptionStyleModel",
          "model_module_version": "1.5.0",
          "state": {
            "_view_name": "StyleView",
            "_model_name": "DescriptionStyleModel",
            "description_width": "",
            "_view_module": "@jupyter-widgets/base",
            "_model_module_version": "1.5.0",
            "_view_count": null,
            "_view_module_version": "1.2.0",
            "_model_module": "@jupyter-widgets/controls"
          }
        },
        "63d9455e3f504d689186a0c6f930f6da": {
          "model_module": "@jupyter-widgets/base",
          "model_name": "LayoutModel",
          "model_module_version": "1.2.0",
          "state": {
            "_view_name": "LayoutView",
            "grid_template_rows": null,
            "right": null,
            "justify_content": null,
            "_view_module": "@jupyter-widgets/base",
            "overflow": null,
            "_model_module_version": "1.2.0",
            "_view_count": null,
            "flex_flow": null,
            "width": null,
            "min_width": null,
            "border": null,
            "align_items": null,
            "bottom": null,
            "_model_module": "@jupyter-widgets/base",
            "top": null,
            "grid_column": null,
            "overflow_y": null,
            "overflow_x": null,
            "grid_auto_flow": null,
            "grid_area": null,
            "grid_template_columns": null,
            "flex": null,
            "_model_name": "LayoutModel",
            "justify_items": null,
            "grid_row": null,
            "max_height": null,
            "align_content": null,
            "visibility": null,
            "align_self": null,
            "height": null,
            "min_height": null,
            "padding": null,
            "grid_auto_rows": null,
            "grid_gap": null,
            "max_width": null,
            "order": null,
            "_view_module_version": "1.2.0",
            "grid_template_areas": null,
            "object_position": null,
            "object_fit": null,
            "grid_auto_columns": null,
            "margin": null,
            "display": null,
            "left": null
          }
        },
        "3f60ba00385848628402e214b4c4329e": {
          "model_module": "@jupyter-widgets/controls",
          "model_name": "HBoxModel",
          "model_module_version": "1.5.0",
          "state": {
            "_view_name": "HBoxView",
            "_dom_classes": [],
            "_model_name": "HBoxModel",
            "_view_module": "@jupyter-widgets/controls",
            "_model_module_version": "1.5.0",
            "_view_count": null,
            "_view_module_version": "1.5.0",
            "box_style": "",
            "layout": "IPY_MODEL_4da14456dd8d440499a504067bacaaae",
            "_model_module": "@jupyter-widgets/controls",
            "children": [
              "IPY_MODEL_99d8f3cbc63e40beb66be72aded3a776",
              "IPY_MODEL_4d8ff4238b2547ce90ef5c8b612851b8",
              "IPY_MODEL_2e7cbc895c3042d8b3405af9eb064a3b"
            ]
          }
        },
        "4da14456dd8d440499a504067bacaaae": {
          "model_module": "@jupyter-widgets/base",
          "model_name": "LayoutModel",
          "model_module_version": "1.2.0",
          "state": {
            "_view_name": "LayoutView",
            "grid_template_rows": null,
            "right": null,
            "justify_content": null,
            "_view_module": "@jupyter-widgets/base",
            "overflow": null,
            "_model_module_version": "1.2.0",
            "_view_count": null,
            "flex_flow": "row wrap",
            "width": "100%",
            "min_width": null,
            "border": null,
            "align_items": null,
            "bottom": null,
            "_model_module": "@jupyter-widgets/base",
            "top": null,
            "grid_column": null,
            "overflow_y": null,
            "overflow_x": null,
            "grid_auto_flow": null,
            "grid_area": null,
            "grid_template_columns": null,
            "flex": null,
            "_model_name": "LayoutModel",
            "justify_items": null,
            "grid_row": null,
            "max_height": null,
            "align_content": null,
            "visibility": null,
            "align_self": null,
            "height": null,
            "min_height": null,
            "padding": null,
            "grid_auto_rows": null,
            "grid_gap": null,
            "max_width": null,
            "order": null,
            "_view_module_version": "1.2.0",
            "grid_template_areas": null,
            "object_position": null,
            "object_fit": null,
            "grid_auto_columns": null,
            "margin": null,
            "display": "inline-flex",
            "left": null
          }
        },
        "99d8f3cbc63e40beb66be72aded3a776": {
          "model_module": "@jupyter-widgets/controls",
          "model_name": "HTMLModel",
          "model_module_version": "1.5.0",
          "state": {
            "_view_name": "HTMLView",
            "style": "IPY_MODEL_4fe47acb0eb64029acafe4b450545e33",
            "_dom_classes": [],
            "description": "",
            "_model_name": "HTMLModel",
            "placeholder": "​",
            "_view_module": "@jupyter-widgets/controls",
            "_model_module_version": "1.5.0",
            "value": "Loss: 1.540 — Avg: 1.760 — GPU Mem: 3117 MB: 100%",
            "_view_count": null,
            "_view_module_version": "1.5.0",
            "description_tooltip": null,
            "_model_module": "@jupyter-widgets/controls",
            "layout": "IPY_MODEL_6a338364d51c4231b769a54044f833e8"
          }
        },
        "4d8ff4238b2547ce90ef5c8b612851b8": {
          "model_module": "@jupyter-widgets/controls",
          "model_name": "FloatProgressModel",
          "model_module_version": "1.5.0",
          "state": {
            "_view_name": "ProgressView",
            "style": "IPY_MODEL_8b099fae887846d285eb98c7df40bfe5",
            "_dom_classes": [],
            "description": "",
            "_model_name": "FloatProgressModel",
            "bar_style": "success",
            "max": 3000,
            "_view_module": "@jupyter-widgets/controls",
            "_model_module_version": "1.5.0",
            "value": 3000,
            "_view_count": null,
            "_view_module_version": "1.5.0",
            "orientation": "horizontal",
            "min": 0,
            "description_tooltip": null,
            "_model_module": "@jupyter-widgets/controls",
            "layout": "IPY_MODEL_eb3375a8b0a4436b8840ed74bbbab564"
          }
        },
        "2e7cbc895c3042d8b3405af9eb064a3b": {
          "model_module": "@jupyter-widgets/controls",
          "model_name": "HTMLModel",
          "model_module_version": "1.5.0",
          "state": {
            "_view_name": "HTMLView",
            "style": "IPY_MODEL_57e93c4f7a954a94a95af2e2c16d301e",
            "_dom_classes": [],
            "description": "",
            "_model_name": "HTMLModel",
            "placeholder": "​",
            "_view_module": "@jupyter-widgets/controls",
            "_model_module_version": "1.5.0",
            "value": " 3000/3000 [08:55&lt;00:00,  5.61it/s]",
            "_view_count": null,
            "_view_module_version": "1.5.0",
            "description_tooltip": null,
            "_model_module": "@jupyter-widgets/controls",
            "layout": "IPY_MODEL_c6cd8e69575f4838b76eabf2d3806b90"
          }
        },
        "4fe47acb0eb64029acafe4b450545e33": {
          "model_module": "@jupyter-widgets/controls",
          "model_name": "DescriptionStyleModel",
          "model_module_version": "1.5.0",
          "state": {
            "_view_name": "StyleView",
            "_model_name": "DescriptionStyleModel",
            "description_width": "",
            "_view_module": "@jupyter-widgets/base",
            "_model_module_version": "1.5.0",
            "_view_count": null,
            "_view_module_version": "1.2.0",
            "_model_module": "@jupyter-widgets/controls"
          }
        },
        "6a338364d51c4231b769a54044f833e8": {
          "model_module": "@jupyter-widgets/base",
          "model_name": "LayoutModel",
          "model_module_version": "1.2.0",
          "state": {
            "_view_name": "LayoutView",
            "grid_template_rows": null,
            "right": null,
            "justify_content": null,
            "_view_module": "@jupyter-widgets/base",
            "overflow": null,
            "_model_module_version": "1.2.0",
            "_view_count": null,
            "flex_flow": null,
            "width": null,
            "min_width": null,
            "border": null,
            "align_items": null,
            "bottom": null,
            "_model_module": "@jupyter-widgets/base",
            "top": null,
            "grid_column": null,
            "overflow_y": null,
            "overflow_x": null,
            "grid_auto_flow": null,
            "grid_area": null,
            "grid_template_columns": null,
            "flex": null,
            "_model_name": "LayoutModel",
            "justify_items": null,
            "grid_row": null,
            "max_height": null,
            "align_content": null,
            "visibility": null,
            "align_self": null,
            "height": null,
            "min_height": null,
            "padding": null,
            "grid_auto_rows": null,
            "grid_gap": null,
            "max_width": null,
            "order": null,
            "_view_module_version": "1.2.0",
            "grid_template_areas": null,
            "object_position": null,
            "object_fit": null,
            "grid_auto_columns": null,
            "margin": null,
            "display": null,
            "left": null
          }
        },
        "8b099fae887846d285eb98c7df40bfe5": {
          "model_module": "@jupyter-widgets/controls",
          "model_name": "ProgressStyleModel",
          "model_module_version": "1.5.0",
          "state": {
            "_view_name": "StyleView",
            "_model_name": "ProgressStyleModel",
            "description_width": "",
            "_view_module": "@jupyter-widgets/base",
            "_model_module_version": "1.5.0",
            "_view_count": null,
            "_view_module_version": "1.2.0",
            "bar_color": null,
            "_model_module": "@jupyter-widgets/controls"
          }
        },
        "eb3375a8b0a4436b8840ed74bbbab564": {
          "model_module": "@jupyter-widgets/base",
          "model_name": "LayoutModel",
          "model_module_version": "1.2.0",
          "state": {
            "_view_name": "LayoutView",
            "grid_template_rows": null,
            "right": null,
            "justify_content": null,
            "_view_module": "@jupyter-widgets/base",
            "overflow": null,
            "_model_module_version": "1.2.0",
            "_view_count": null,
            "flex_flow": null,
            "width": null,
            "min_width": null,
            "border": null,
            "align_items": null,
            "bottom": null,
            "_model_module": "@jupyter-widgets/base",
            "top": null,
            "grid_column": null,
            "overflow_y": null,
            "overflow_x": null,
            "grid_auto_flow": null,
            "grid_area": null,
            "grid_template_columns": null,
            "flex": "2",
            "_model_name": "LayoutModel",
            "justify_items": null,
            "grid_row": null,
            "max_height": null,
            "align_content": null,
            "visibility": null,
            "align_self": null,
            "height": null,
            "min_height": null,
            "padding": null,
            "grid_auto_rows": null,
            "grid_gap": null,
            "max_width": null,
            "order": null,
            "_view_module_version": "1.2.0",
            "grid_template_areas": null,
            "object_position": null,
            "object_fit": null,
            "grid_auto_columns": null,
            "margin": null,
            "display": null,
            "left": null
          }
        },
        "57e93c4f7a954a94a95af2e2c16d301e": {
          "model_module": "@jupyter-widgets/controls",
          "model_name": "DescriptionStyleModel",
          "model_module_version": "1.5.0",
          "state": {
            "_view_name": "StyleView",
            "_model_name": "DescriptionStyleModel",
            "description_width": "",
            "_view_module": "@jupyter-widgets/base",
            "_model_module_version": "1.5.0",
            "_view_count": null,
            "_view_module_version": "1.2.0",
            "_model_module": "@jupyter-widgets/controls"
          }
        },
        "c6cd8e69575f4838b76eabf2d3806b90": {
          "model_module": "@jupyter-widgets/base",
          "model_name": "LayoutModel",
          "model_module_version": "1.2.0",
          "state": {
            "_view_name": "LayoutView",
            "grid_template_rows": null,
            "right": null,
            "justify_content": null,
            "_view_module": "@jupyter-widgets/base",
            "overflow": null,
            "_model_module_version": "1.2.0",
            "_view_count": null,
            "flex_flow": null,
            "width": null,
            "min_width": null,
            "border": null,
            "align_items": null,
            "bottom": null,
            "_model_module": "@jupyter-widgets/base",
            "top": null,
            "grid_column": null,
            "overflow_y": null,
            "overflow_x": null,
            "grid_auto_flow": null,
            "grid_area": null,
            "grid_template_columns": null,
            "flex": null,
            "_model_name": "LayoutModel",
            "justify_items": null,
            "grid_row": null,
            "max_height": null,
            "align_content": null,
            "visibility": null,
            "align_self": null,
            "height": null,
            "min_height": null,
            "padding": null,
            "grid_auto_rows": null,
            "grid_gap": null,
            "max_width": null,
            "order": null,
            "_view_module_version": "1.2.0",
            "grid_template_areas": null,
            "object_position": null,
            "object_fit": null,
            "grid_auto_columns": null,
            "margin": null,
            "display": null,
            "left": null
          }
        },
        "cdfb9c99d90542908de1e894eae8a917": {
          "model_module": "@jupyter-widgets/controls",
          "model_name": "HBoxModel",
          "model_module_version": "1.5.0",
          "state": {
            "_view_name": "HBoxView",
            "_dom_classes": [],
            "_model_name": "HBoxModel",
            "_view_module": "@jupyter-widgets/controls",
            "_model_module_version": "1.5.0",
            "_view_count": null,
            "_view_module_version": "1.5.0",
            "box_style": "",
            "layout": "IPY_MODEL_9b667196d1c647fca3a10a08f6c838df",
            "_model_module": "@jupyter-widgets/controls",
            "children": [
              "IPY_MODEL_94d34e0c0ba349c89552fbdcd6b1d9c2",
              "IPY_MODEL_c3f2f2219c3743318f4b16676a5b34eb",
              "IPY_MODEL_d19c19a57f264abc8c978f20adf2b94e"
            ]
          }
        },
        "9b667196d1c647fca3a10a08f6c838df": {
          "model_module": "@jupyter-widgets/base",
          "model_name": "LayoutModel",
          "model_module_version": "1.2.0",
          "state": {
            "_view_name": "LayoutView",
            "grid_template_rows": null,
            "right": null,
            "justify_content": null,
            "_view_module": "@jupyter-widgets/base",
            "overflow": null,
            "_model_module_version": "1.2.0",
            "_view_count": null,
            "flex_flow": null,
            "width": null,
            "min_width": null,
            "border": null,
            "align_items": null,
            "bottom": null,
            "_model_module": "@jupyter-widgets/base",
            "top": null,
            "grid_column": null,
            "overflow_y": null,
            "overflow_x": null,
            "grid_auto_flow": null,
            "grid_area": null,
            "grid_template_columns": null,
            "flex": null,
            "_model_name": "LayoutModel",
            "justify_items": null,
            "grid_row": null,
            "max_height": null,
            "align_content": null,
            "visibility": null,
            "align_self": null,
            "height": null,
            "min_height": null,
            "padding": null,
            "grid_auto_rows": null,
            "grid_gap": null,
            "max_width": null,
            "order": null,
            "_view_module_version": "1.2.0",
            "grid_template_areas": null,
            "object_position": null,
            "object_fit": null,
            "grid_auto_columns": null,
            "margin": null,
            "display": null,
            "left": null
          }
        },
        "94d34e0c0ba349c89552fbdcd6b1d9c2": {
          "model_module": "@jupyter-widgets/controls",
          "model_name": "HTMLModel",
          "model_module_version": "1.5.0",
          "state": {
            "_view_name": "HTMLView",
            "style": "IPY_MODEL_af686737ee4c4e90969d7780a5cf0951",
            "_dom_classes": [],
            "description": "",
            "_model_name": "HTMLModel",
            "placeholder": "​",
            "_view_module": "@jupyter-widgets/controls",
            "_model_module_version": "1.5.0",
            "value": "100%",
            "_view_count": null,
            "_view_module_version": "1.5.0",
            "description_tooltip": null,
            "_model_module": "@jupyter-widgets/controls",
            "layout": "IPY_MODEL_0152adc074224ba6b99c6ab143d043a2"
          }
        },
        "c3f2f2219c3743318f4b16676a5b34eb": {
          "model_module": "@jupyter-widgets/controls",
          "model_name": "FloatProgressModel",
          "model_module_version": "1.5.0",
          "state": {
            "_view_name": "ProgressView",
            "style": "IPY_MODEL_f942d15b58fb461b8ba66e69ca6f13ff",
            "_dom_classes": [],
            "description": "",
            "_model_name": "FloatProgressModel",
            "bar_style": "success",
            "max": 1000,
            "_view_module": "@jupyter-widgets/controls",
            "_model_module_version": "1.5.0",
            "value": 1000,
            "_view_count": null,
            "_view_module_version": "1.5.0",
            "orientation": "horizontal",
            "min": 0,
            "description_tooltip": null,
            "_model_module": "@jupyter-widgets/controls",
            "layout": "IPY_MODEL_1320ebf79d1f4bba87055a87eb41dbbc"
          }
        },
        "d19c19a57f264abc8c978f20adf2b94e": {
          "model_module": "@jupyter-widgets/controls",
          "model_name": "HTMLModel",
          "model_module_version": "1.5.0",
          "state": {
            "_view_name": "HTMLView",
            "style": "IPY_MODEL_c0754e2dd5134b9088ed00c8d24bfdd4",
            "_dom_classes": [],
            "description": "",
            "_model_name": "HTMLModel",
            "placeholder": "​",
            "_view_module": "@jupyter-widgets/controls",
            "_model_module_version": "1.5.0",
            "value": " 1000/1000 [23:40&lt;00:00,  1.42s/it]",
            "_view_count": null,
            "_view_module_version": "1.5.0",
            "description_tooltip": null,
            "_model_module": "@jupyter-widgets/controls",
            "layout": "IPY_MODEL_354d960450a0457cbb063578f0505816"
          }
        },
        "af686737ee4c4e90969d7780a5cf0951": {
          "model_module": "@jupyter-widgets/controls",
          "model_name": "DescriptionStyleModel",
          "model_module_version": "1.5.0",
          "state": {
            "_view_name": "StyleView",
            "_model_name": "DescriptionStyleModel",
            "description_width": "",
            "_view_module": "@jupyter-widgets/base",
            "_model_module_version": "1.5.0",
            "_view_count": null,
            "_view_module_version": "1.2.0",
            "_model_module": "@jupyter-widgets/controls"
          }
        },
        "0152adc074224ba6b99c6ab143d043a2": {
          "model_module": "@jupyter-widgets/base",
          "model_name": "LayoutModel",
          "model_module_version": "1.2.0",
          "state": {
            "_view_name": "LayoutView",
            "grid_template_rows": null,
            "right": null,
            "justify_content": null,
            "_view_module": "@jupyter-widgets/base",
            "overflow": null,
            "_model_module_version": "1.2.0",
            "_view_count": null,
            "flex_flow": null,
            "width": null,
            "min_width": null,
            "border": null,
            "align_items": null,
            "bottom": null,
            "_model_module": "@jupyter-widgets/base",
            "top": null,
            "grid_column": null,
            "overflow_y": null,
            "overflow_x": null,
            "grid_auto_flow": null,
            "grid_area": null,
            "grid_template_columns": null,
            "flex": null,
            "_model_name": "LayoutModel",
            "justify_items": null,
            "grid_row": null,
            "max_height": null,
            "align_content": null,
            "visibility": null,
            "align_self": null,
            "height": null,
            "min_height": null,
            "padding": null,
            "grid_auto_rows": null,
            "grid_gap": null,
            "max_width": null,
            "order": null,
            "_view_module_version": "1.2.0",
            "grid_template_areas": null,
            "object_position": null,
            "object_fit": null,
            "grid_auto_columns": null,
            "margin": null,
            "display": null,
            "left": null
          }
        },
        "f942d15b58fb461b8ba66e69ca6f13ff": {
          "model_module": "@jupyter-widgets/controls",
          "model_name": "ProgressStyleModel",
          "model_module_version": "1.5.0",
          "state": {
            "_view_name": "StyleView",
            "_model_name": "ProgressStyleModel",
            "description_width": "",
            "_view_module": "@jupyter-widgets/base",
            "_model_module_version": "1.5.0",
            "_view_count": null,
            "_view_module_version": "1.2.0",
            "bar_color": null,
            "_model_module": "@jupyter-widgets/controls"
          }
        },
        "1320ebf79d1f4bba87055a87eb41dbbc": {
          "model_module": "@jupyter-widgets/base",
          "model_name": "LayoutModel",
          "model_module_version": "1.2.0",
          "state": {
            "_view_name": "LayoutView",
            "grid_template_rows": null,
            "right": null,
            "justify_content": null,
            "_view_module": "@jupyter-widgets/base",
            "overflow": null,
            "_model_module_version": "1.2.0",
            "_view_count": null,
            "flex_flow": null,
            "width": null,
            "min_width": null,
            "border": null,
            "align_items": null,
            "bottom": null,
            "_model_module": "@jupyter-widgets/base",
            "top": null,
            "grid_column": null,
            "overflow_y": null,
            "overflow_x": null,
            "grid_auto_flow": null,
            "grid_area": null,
            "grid_template_columns": null,
            "flex": null,
            "_model_name": "LayoutModel",
            "justify_items": null,
            "grid_row": null,
            "max_height": null,
            "align_content": null,
            "visibility": null,
            "align_self": null,
            "height": null,
            "min_height": null,
            "padding": null,
            "grid_auto_rows": null,
            "grid_gap": null,
            "max_width": null,
            "order": null,
            "_view_module_version": "1.2.0",
            "grid_template_areas": null,
            "object_position": null,
            "object_fit": null,
            "grid_auto_columns": null,
            "margin": null,
            "display": null,
            "left": null
          }
        },
        "c0754e2dd5134b9088ed00c8d24bfdd4": {
          "model_module": "@jupyter-widgets/controls",
          "model_name": "DescriptionStyleModel",
          "model_module_version": "1.5.0",
          "state": {
            "_view_name": "StyleView",
            "_model_name": "DescriptionStyleModel",
            "description_width": "",
            "_view_module": "@jupyter-widgets/base",
            "_model_module_version": "1.5.0",
            "_view_count": null,
            "_view_module_version": "1.2.0",
            "_model_module": "@jupyter-widgets/controls"
          }
        },
        "354d960450a0457cbb063578f0505816": {
          "model_module": "@jupyter-widgets/base",
          "model_name": "LayoutModel",
          "model_module_version": "1.2.0",
          "state": {
            "_view_name": "LayoutView",
            "grid_template_rows": null,
            "right": null,
            "justify_content": null,
            "_view_module": "@jupyter-widgets/base",
            "overflow": null,
            "_model_module_version": "1.2.0",
            "_view_count": null,
            "flex_flow": null,
            "width": null,
            "min_width": null,
            "border": null,
            "align_items": null,
            "bottom": null,
            "_model_module": "@jupyter-widgets/base",
            "top": null,
            "grid_column": null,
            "overflow_y": null,
            "overflow_x": null,
            "grid_auto_flow": null,
            "grid_area": null,
            "grid_template_columns": null,
            "flex": null,
            "_model_name": "LayoutModel",
            "justify_items": null,
            "grid_row": null,
            "max_height": null,
            "align_content": null,
            "visibility": null,
            "align_self": null,
            "height": null,
            "min_height": null,
            "padding": null,
            "grid_auto_rows": null,
            "grid_gap": null,
            "max_width": null,
            "order": null,
            "_view_module_version": "1.2.0",
            "grid_template_areas": null,
            "object_position": null,
            "object_fit": null,
            "grid_auto_columns": null,
            "margin": null,
            "display": null,
            "left": null
          }
        }
      }
    },
    "interpreter": {
      "hash": "ccbba38901ec24f44857db8fbdc80adc76ee2162a7438bd46412d47e74351045"
    }
  },
  "cells": [
    {
      "cell_type": "markdown",
      "source": [
        "# JokePT2\r\n",
        "This was initially a Colab notebook I pulled down for posterity\r\n",
        "\r\n",
        "In this I, purposely, train `aitextgen`, a GPT-2 wrapper, for less than suffice iterations on\r\n",
        "* A transcript of a Charles Manson interview\r\n",
        "* Yo momma jokes\r\n",
        "\r\n",
        "The training process was essentially the same for both, except the yo momma jokes were trained with the flag `line_by_line=True`\r\n",
        "\r\n",
        "Results are in the \"training output\" folder"
      ],
      "metadata": {
        "id": "XfAzhgnXqCqd"
      }
    },
    {
      "cell_type": "code",
      "execution_count": 1,
      "source": [
        "# install packages\r\n",
        "\r\n",
        "!pip install -q aitextgen\r\n",
        "\r\n",
        "import logging\r\n",
        "logging.basicConfig(\r\n",
        "        format=\"%(asctime)s — %(levelname)s — %(name)s — %(message)s\",\r\n",
        "        datefmt=\"%m/%d/%Y %H:%M:%S\",\r\n",
        "        level=logging.INFO\r\n",
        "    )\r\n",
        "\r\n",
        "from aitextgen import aitextgen\r\n",
        "from aitextgen.colab import mount_gdrive, copy_file_from_gdrive"
      ],
      "outputs": [
        {
          "output_type": "stream",
          "name": "stdout",
          "text": [
            "\u001b[K     |████████████████████████████████| 572 kB 5.4 MB/s \n",
            "\u001b[K     |████████████████████████████████| 2.8 MB 37.5 MB/s \n",
            "\u001b[K     |████████████████████████████████| 87 kB 6.5 MB/s \n",
            "\u001b[K     |████████████████████████████████| 923 kB 33.8 MB/s \n",
            "\u001b[K     |████████████████████████████████| 829 kB 28.7 MB/s \n",
            "\u001b[K     |████████████████████████████████| 282 kB 42.0 MB/s \n",
            "\u001b[K     |████████████████████████████████| 636 kB 50.7 MB/s \n",
            "\u001b[K     |████████████████████████████████| 119 kB 36.9 MB/s \n",
            "\u001b[K     |████████████████████████████████| 1.3 MB 36.4 MB/s \n",
            "\u001b[K     |████████████████████████████████| 52 kB 1.5 MB/s \n",
            "\u001b[K     |████████████████████████████████| 3.3 MB 36.1 MB/s \n",
            "\u001b[K     |████████████████████████████████| 895 kB 38.3 MB/s \n",
            "\u001b[K     |████████████████████████████████| 142 kB 50.3 MB/s \n",
            "\u001b[K     |████████████████████████████████| 294 kB 47.8 MB/s \n",
            "\u001b[?25h  Building wheel for aitextgen (setup.py) ... \u001b[?25l\u001b[?25hdone\n",
            "  Building wheel for fire (setup.py) ... \u001b[?25l\u001b[?25hdone\n",
            "  Building wheel for future (setup.py) ... \u001b[?25l\u001b[?25hdone\n"
          ]
        }
      ],
      "metadata": {
        "id": "jibBvpCdqIJ6",
        "colab": {
          "base_uri": "https://localhost:8080/"
        },
        "outputId": "2aaea0b4-4c11-4917-d283-d61865a1290b"
      }
    },
    {
      "cell_type": "code",
      "execution_count": 2,
      "source": [
        "# check what GPU I've got\r\n",
        "!nvidia-smi"
      ],
      "outputs": [
        {
          "output_type": "stream",
          "name": "stdout",
          "text": [
            "Mon Sep 20 00:18:14 2021       \n",
            "+-----------------------------------------------------------------------------+\n",
            "| NVIDIA-SMI 470.63.01    Driver Version: 460.32.03    CUDA Version: 11.2     |\n",
            "|-------------------------------+----------------------+----------------------+\n",
            "| GPU  Name        Persistence-M| Bus-Id        Disp.A | Volatile Uncorr. ECC |\n",
            "| Fan  Temp  Perf  Pwr:Usage/Cap|         Memory-Usage | GPU-Util  Compute M. |\n",
            "|                               |                      |               MIG M. |\n",
            "|===============================+======================+======================|\n",
            "|   0  Tesla K80           Off  | 00000000:00:04.0 Off |                    0 |\n",
            "| N/A   33C    P8    29W / 149W |      0MiB / 11441MiB |      0%      Default |\n",
            "|                               |                      |                  N/A |\n",
            "+-------------------------------+----------------------+----------------------+\n",
            "                                                                               \n",
            "+-----------------------------------------------------------------------------+\n",
            "| Processes:                                                                  |\n",
            "|  GPU   GI   CI        PID   Type   Process name                  GPU Memory |\n",
            "|        ID   ID                                                   Usage      |\n",
            "|=============================================================================|\n",
            "|  No running processes found                                                 |\n",
            "+-----------------------------------------------------------------------------+\n"
          ]
        }
      ],
      "metadata": {
        "colab": {
          "base_uri": "https://localhost:8080/"
        },
        "id": "JKsKwWMsqMcy",
        "outputId": "6c0c38be-2730-4919-f391-5a5b74b3c20a"
      }
    },
    {
      "cell_type": "markdown",
      "source": [
        "Download/load 124M GPT-2 model"
      ],
      "metadata": {
        "id": "XQ_i_6NzY8kR"
      }
    },
    {
      "cell_type": "code",
      "execution_count": 11,
      "source": [
        "ai = aitextgen(tf_gpt2=\"124M\", to_gpu=True)"
      ],
      "outputs": [
        {
          "output_type": "stream",
          "name": "stderr",
          "text": [
            "09/20/2021 00:55:07 — INFO — aitextgen — Loading 124M GPT-2 model from /aitextgen.\n",
            "09/20/2021 00:55:10 — INFO — aitextgen — GPT2 loaded with 124M parameters.\n",
            "09/20/2021 00:55:10 — INFO — aitextgen — Using the default GPT-2 Tokenizer.\n"
          ]
        }
      ],
      "metadata": {
        "colab": {
          "base_uri": "https://localhost:8080/"
        },
        "id": "ag6wjBJVqXWX",
        "outputId": "f8db560e-d59d-4f66-9968-ff653ff2632c"
      }
    },
    {
      "cell_type": "markdown",
      "source": [
        "### Mount Google drive\n",
        "Mounts personal Google Drive in the VM which can be used for taking files in and out"
      ],
      "metadata": {
        "id": "M6ZL8FnlZGgS"
      }
    },
    {
      "cell_type": "code",
      "execution_count": 4,
      "source": [
        "mount_gdrive()"
      ],
      "outputs": [
        {
          "output_type": "stream",
          "name": "stdout",
          "text": [
            "Mounted at /content/drive\n"
          ]
        }
      ],
      "metadata": {
        "colab": {
          "base_uri": "https://localhost:8080/"
        },
        "id": "6eWZgCIisdAp",
        "outputId": "b77691b2-ac96-4768-f283-c6475ac008ff"
      }
    },
    {
      "cell_type": "markdown",
      "source": [
        "### Load in training files"
      ],
      "metadata": {
        "id": "DXzAvILzZ0-R"
      }
    },
    {
      "cell_type": "code",
      "execution_count": 12,
      "source": [
        "# filename = \"all_ym_jokes.txt\"\r\n",
        "filename = \"manson.txt\""
      ],
      "outputs": [],
      "metadata": {
        "id": "F3W299niZGGR"
      }
    },
    {
      "cell_type": "markdown",
      "source": [
        "### Tokenize the text"
      ],
      "metadata": {
        "id": "i7ypeGZeH-y3"
      }
    },
    {
      "cell_type": "code",
      "execution_count": 13,
      "source": [
        "from aitextgen.tokenizers import train_tokenizer\r\n",
        "\r\n",
        "# train custom tokenizer\r\n",
        "train_tokenizer(filename)\r\n",
        "tokenizer_file = \"aitextgen.tokenizer.json\""
      ],
      "outputs": [],
      "metadata": {
        "id": "lWKq7qWfIBbN"
      }
    },
    {
      "cell_type": "code",
      "execution_count": 14,
      "source": [
        "from aitextgen.TokenDataset import TokenDataset\r\n",
        "\r\n",
        "ai = aitextgen(tf_gpt2=\"124M\", to_gpu=True, tokenizer_file=tokenizer_file)\r\n",
        "data = TokenDataset(filename, tokenizer_file=tokenizer_file, block_size=64)"
      ],
      "outputs": [
        {
          "output_type": "stream",
          "name": "stderr",
          "text": [
            "09/20/2021 00:56:03 — INFO — aitextgen — Loading 124M GPT-2 model from /aitextgen.\n",
            "09/20/2021 00:56:05 — INFO — aitextgen — GPT2 loaded with 124M parameters.\n",
            "09/20/2021 00:56:05 — INFO — aitextgen — Using a custom tokenizer.\n"
          ]
        },
        {
          "output_type": "display_data",
          "data": {
            "application/vnd.jupyter.widget-view+json": {
              "model_id": "f0b2b60aa534436a856ad3f1c90a1e6b",
              "version_minor": 0,
              "version_major": 2
            },
            "text/plain": [
              "  0%|          | 0/373 [00:00<?, ?it/s]"
            ]
          },
          "metadata": {}
        },
        {
          "output_type": "stream",
          "name": "stderr",
          "text": [
            "09/20/2021 00:56:05 — INFO — aitextgen.TokenDataset — Encoding 373 sets of tokens from manson.txt.\n"
          ]
        }
      ],
      "metadata": {
        "colab": {
          "base_uri": "https://localhost:8080/",
          "height": 116,
          "referenced_widgets": [
            "f0b2b60aa534436a856ad3f1c90a1e6b",
            "b37d3c9b86f54815bbea76dfc67393b5",
            "4061220dd8994942b17f26b34579537a",
            "d6c44e2cc7d64acda27a4e2dfa2ef750",
            "33da1eacaa0949dbb5fe3cf37ae09862",
            "a29b5b28ab5b4437861c5d6385ee4019",
            "545457240eeb4218bdf42f4495ff584c",
            "482ea9d6a2cc4ae9bac9e13eb021cd5d",
            "a6ffddf8f4844d43a8aaf2e8ac048c6f",
            "66ef89fbcfa444418d3c5b6c90dec998",
            "63d9455e3f504d689186a0c6f930f6da"
          ]
        },
        "id": "XJv4OiZoIhqK",
        "outputId": "5e86a45a-a6c4-48b7-9de0-97f4563a32a9"
      }
    },
    {
      "cell_type": "markdown",
      "source": [
        "### Finetune GPT-2\n",
        "Important parameters for `train()`:\n",
        "\n",
        "- **`line_by_line`**: Set this to `True` if the input text file is a single-column CSV, with one record per row. aitextgen will automatically process it optimally.\n",
        "- **`from_cache`**: If you compressed your dataset locally (as noted in the previous section) and are using that cache file, set this to `True`.\n",
        "- **`num_steps`**: Number of steps to train the model for.\n",
        "- **`generate_every`**: Interval of steps to generate example text from the model; good for qualitatively validating training.\n",
        "- **`save_every`**: Interval of steps to save the model: the model will be saved in the VM to `/trained_model`.\n",
        "- **`save_gdrive`**: Set this to `True` to copy the model to a unique folder in your Google Drive, if you have mounted it in the earlier cells\n",
        "- **`fp16`**: Enables half-precision training for faster/more memory-efficient training. Only works on a T4 or V100 GPU.\n",
        "\n",
        "Here are other important parameters for `train()` that are useful but you likely do not need to change.\n",
        "\n",
        "- **`learning_rate`**: Learning rate of the model training.\n",
        "- **`batch_size`**: Batch size of the model training; setting it too high will cause the GPU to go OOM. (if using `fp16`, you can increase the batch size more safely)"
      ],
      "metadata": {
        "id": "_u78R8GuaJOE"
      }
    },
    {
      "cell_type": "code",
      "execution_count": 15,
      "source": [
        "ai.train(data,\r\n",
        "        #  line_by_line=True,\r\n",
        "         line_by_line=False,\r\n",
        "         from_cache=False,\r\n",
        "         num_steps=3000,\r\n",
        "         generate_every=1000,\r\n",
        "         save_every=1000,\r\n",
        "         save_gdrive=False,\r\n",
        "         learning_rate=1e-3,\r\n",
        "         fp16=False,\r\n",
        "         batch_size=1)"
      ],
      "outputs": [
        {
          "output_type": "stream",
          "name": "stderr",
          "text": [
            "09/20/2021 00:56:12 — WARNING — aitextgen — pytorch_model.bin already exists in /trained_model and will be overwritten!\n",
            "09/20/2021 00:56:12 — INFO — pytorch_lightning.utilities.distributed — GPU available: True, used: True\n",
            "09/20/2021 00:56:12 — INFO — pytorch_lightning.utilities.distributed — TPU available: False, using: 0 TPU cores\n",
            "09/20/2021 00:56:12 — INFO — pytorch_lightning.utilities.distributed — IPU available: False, using: 0 IPUs\n",
            "09/20/2021 00:56:12 — INFO — pytorch_lightning.accelerators.gpu — LOCAL_RANK: 0 - CUDA_VISIBLE_DEVICES: [0]\n"
          ]
        },
        {
          "output_type": "display_data",
          "data": {
            "application/vnd.jupyter.widget-view+json": {
              "model_id": "3f60ba00385848628402e214b4c4329e",
              "version_minor": 0,
              "version_major": 2
            },
            "text/plain": [
              "  0%|          | 0/3000 [00:00<?, ?it/s]"
            ]
          },
          "metadata": {}
        },
        {
          "output_type": "stream",
          "name": "stdout",
          "text": [
            "\u001b[1m1,000 steps reached: saving model to /trained_model\u001b[0m\n",
            "\u001b[1m1,000 steps reached: generating sample texts.\u001b[0m\n",
            "==========\n",
            ", and you mad at me and you are all so you are all projected him with your children. You are too deaf, and you are.\n",
            "It is mad at me, and you canday, and that you can say. You are a stolezf, and you are too deaf, but you are too deaf, dumb and blind to stand and you have any of the girls, and blind to believe in the money, and project, but you are all so come at me. You are doing that you. You have got got me. You are too deaf, and live with your children that you. You are all going to sits, and I have done, \"You are all crsed. You are all going to you are what you are too deaf, but you are all going to you have done them.\" I say, and blind to get really, because that is what that you have going to you are too deaf, and blind to testifrible, and that your brain with this back and pral deaf, and blind to only only live with You only learned, \"You are mad attention, but when you are doing whatever you projected at yourselves because\n",
            "==========\n",
            "\u001b[1m2,000 steps reached: saving model to /trained_model\u001b[0m\n",
            "\u001b[1m2,000 steps reached: generating sample texts.\u001b[0m\n",
            "==========\n",
            " and eat meat that your sourow up, because that is what you can't want, because that is what you play, and you don't understand.\n",
            "\n",
            "You can only only give them the other; you can live for them the house, you can live on me that is the things that do because you have made them to do, and you can give them not responsible for my hama; you only give them the things that you can give them the roomation; you can give them the newspaper, you can live with yourselves, that to think that you can give them your penitentiary, the people what you can only give them your frusth about my reality and you can live in your face death. I cannot give them the things. Mrow up, that I have mine when you can say, I won't have any of them your face death. But I would keeps for my reality, and you can't look out of them in my reality because I did in jail and I will give wherever I am not my family is only give them the room of my reality, and I am still will be responsible to do your mine, and the bad house.\n",
            "\n",
            "\n",
            "\n",
            "\n",
            "\n",
            "\n",
            "==========\n",
            "\u001b[1m3,000 steps reached: saving model to /trained_model\u001b[0m\n",
            "\u001b[1m3,000 steps reached: generating sample texts.\u001b[0m\n",
            "==========\n",
            " alike the jail thinking. Oraid could think it on any different things that sons of you are because of you can give at yourselves, and your opinion of yourselves. What you can give them.\"\n",
            "\n",
            "Well, I cannot fight this case, Inst it's hard, but I am only givenst with constraid of yourselves, it is okay with yourselves, because the newspapers. It's hard, and the big thing my brothers, because I cannot fight this case, but you might findions.\"\n",
            "\n",
            "\n",
            "You say it is only hard, but made me, \"Okay.\"\n",
            "\n",
            "You set this case might findions.\"\n",
            "\n",
            "You look like a hard, but if they have got, that your opinion of you want to testifies. I cannot fight this case. You only thing that cannot fight, it's hard, but of someone that my life anyway, just cannot fight this case, then my life anyway.\n",
            "You wanted to project, it's only thing. I cannot fight this case, right woman against yourselves, with const of thinking. You can say, right now; you only thing that your fear, and you can givenst of someone else elseictually, it\n",
            "==========\n"
          ]
        },
        {
          "output_type": "stream",
          "name": "stderr",
          "text": [
            "09/20/2021 01:05:09 — INFO — aitextgen — Saving trained model pytorch_model.bin to /trained_model\n"
          ]
        }
      ],
      "metadata": {
        "colab": {
          "base_uri": "https://localhost:8080/",
          "height": 741,
          "referenced_widgets": [
            "3f60ba00385848628402e214b4c4329e",
            "4da14456dd8d440499a504067bacaaae",
            "99d8f3cbc63e40beb66be72aded3a776",
            "4d8ff4238b2547ce90ef5c8b612851b8",
            "2e7cbc895c3042d8b3405af9eb064a3b",
            "4fe47acb0eb64029acafe4b450545e33",
            "6a338364d51c4231b769a54044f833e8",
            "8b099fae887846d285eb98c7df40bfe5",
            "eb3375a8b0a4436b8840ed74bbbab564",
            "57e93c4f7a954a94a95af2e2c16d301e",
            "c6cd8e69575f4838b76eabf2d3806b90"
          ]
        },
        "id": "MR86R0S1aIMB",
        "outputId": "d4494e5a-ee10-4830-ac25-7aca9ebdbaf7"
      }
    },
    {
      "cell_type": "markdown",
      "source": [
        "### Generating multiple responses\n",
        "\n",
        "You can pass in a `prompt` to the generate function to force the text to start with a given character sequence and generate text from there (good if you add an indicator when the text starts).\n",
        "\n",
        "You can also generate multiple texts at a time by specifing `n`. You can pass a `batch_size` to generate multiple samples in parallel, giving a massive speedup (in Colaboratory, set a maximum of 50 for `batch_size` to avoid going OOM).\n",
        "\n",
        "Other optional-but-helpful parameters for `ai.generate()` and friends:\n",
        "\n",
        "*  **`min length`**: The minimum length of the generated text: if the text is shorter than this value after cleanup, aitextgen will generate another one.\n",
        "*  **`max_length`**: Number of tokens to generate (default 256, you can generate up to 1024 tokens with GPT-2 and 2048 with GPT Neo)\n",
        "* **`temperature`**: The higher the temperature, the crazier the text (default 0.7, recommended to keep between 0.7 and 1.0)\n",
        "* **`top_k`**: Limits the generated guesses to the top *k* guesses (default 0 which disables the behavior; if the generated output is super crazy, you may want to set `top_k=40`)\n",
        "* **`top_p`**: Nucleus sampling: limits the generated guesses to a cumulative probability. (gets good results on a dataset with `top_p=0.9`)"
      ],
      "metadata": {
        "id": "Nw1v9ixJmqqO"
      }
    },
    {
      "cell_type": "code",
      "execution_count": 16,
      "source": [
        "ai.generate(n=5,\r\n",
        "            batch_size=5,\r\n",
        "            max_length=100,\r\n",
        "            temperature=0.7,\r\n",
        "            top_p=0.9)"
      ],
      "outputs": [
        {
          "output_type": "stream",
          "name": "stdout",
          "text": [
            "a case. I don't know why they know why I know what I don't know what I am forgetfen day it is forgetfit day it is or any way, the money that monthstiurch counts in your world ga is the Thirteenth undergry. You only su hippierestustorses is now that lieenth undergry outor, and you from now. You're all any\n",
            "==========\n",
            "e. You're going blind until you thought. You know why, they are dying. You thought was afr thought afr thoughts sen away afr thought a know pubfe.\r\n",
            "Well, oh sold sons everything that only give what they have made you think that coun the now.\r\n",
            "\r\n",
            "If I don't have any liest of you want someone in jail cell and any kind of you like you\n",
            "==========\n",
            "a Yanke about someone about things. You could have pict a woman would do: the highomobile as if woman was supposedct Actk reforneood in jaughteah so I have public opinion and actually, \"Charlie think sold a year say, \"Charaid of him.\" And do that arre did not give them.\" And do you only know why, but do\n",
            "==========\n",
            "en the different. You, but I am forgetfie one day. I forgetfie one day and the next secoth Century.\r\n",
            "\r\n",
            "I have showed you what you are this case, then you are. You are what only sons in the now that every one of you are inside of you, for you. And what you want you, then what you are doing, how else made you are doing to you are doing, then what you\n",
            "==========\n",
            "e. I reach a guy particularly care too good guy day. I have told with anyone because I have done my best to bef of your world, because I know why they are a reflection of your thoughts told. You know, everything\r\n",
            "\r\n",
            "\r\n",
            "You have done everything that the best for aclo the best to killing, and you made problem, and you have told them only give them your world, but I cannot give them the penitentiary\n"
          ]
        }
      ],
      "metadata": {
        "colab": {
          "base_uri": "https://localhost:8080/"
        },
        "id": "10LTRMNHm5f3",
        "outputId": "9a5ffb1c-b14a-4b55-ffaa-1aabb102ec0a"
      }
    },
    {
      "cell_type": "markdown",
      "source": [
        "Generate 1000 samples of output text"
      ],
      "metadata": {}
    },
    {
      "cell_type": "code",
      "execution_count": 17,
      "source": [
        "ai.generate_to_file(n=1000, \r\n",
        "                    batch_size=5, \r\n",
        "                    max_length=50,   \r\n",
        "                    top_p=0.9, \r\n",
        "                    temperature=1.2)"
      ],
      "outputs": [
        {
          "output_type": "stream",
          "name": "stderr",
          "text": [
            "09/20/2021 01:05:25 — INFO — aitextgen — Generating 1,000 texts to ATG_20210920_010525_81724029.txt\n"
          ]
        },
        {
          "output_type": "display_data",
          "data": {
            "application/vnd.jupyter.widget-view+json": {
              "model_id": "cdfb9c99d90542908de1e894eae8a917",
              "version_minor": 0,
              "version_major": 2
            },
            "text/plain": [
              "  0%|          | 0/1000 [00:00<?, ?it/s]"
            ]
          },
          "metadata": {}
        }
      ],
      "metadata": {
        "id": "79MUOhAgu6B8",
        "colab": {
          "base_uri": "https://localhost:8080/",
          "height": 66,
          "referenced_widgets": [
            "cdfb9c99d90542908de1e894eae8a917",
            "9b667196d1c647fca3a10a08f6c838df",
            "94d34e0c0ba349c89552fbdcd6b1d9c2",
            "c3f2f2219c3743318f4b16676a5b34eb",
            "d19c19a57f264abc8c978f20adf2b94e",
            "af686737ee4c4e90969d7780a5cf0951",
            "0152adc074224ba6b99c6ab143d043a2",
            "f942d15b58fb461b8ba66e69ca6f13ff",
            "1320ebf79d1f4bba87055a87eb41dbbc",
            "c0754e2dd5134b9088ed00c8d24bfdd4",
            "354d960450a0457cbb063578f0505816"
          ]
        },
        "outputId": "5ca14663-f77e-4721-b32a-094395e5ea02"
      }
    }
  ]
}