{
 "cells": [
  {
   "cell_type": "code",
   "execution_count": null,
   "source": [
    "# inspiration: https://docs.google.com/spreadsheets/d/1wZhPLMCHKJvwOkP4juclhjFgqIY8fQFMemwKL2c64vk/htmlview row 1252\r\n",
    "# senate data: https://senatestockwatcher.com/api\r\n",
    "# house data: https://housestockwatcher.com/api\r\n",
    "# historical/current legislator data: https://github.com/unitedstates/congress-legislators"
   ],
   "outputs": [],
   "metadata": {}
  },
  {
   "cell_type": "code",
   "execution_count": 1,
   "source": [
    "import pandas as pd"
   ],
   "outputs": [],
   "metadata": {}
  },
  {
   "cell_type": "markdown",
   "source": [
    "## Process legislator file"
   ],
   "metadata": {}
  },
  {
   "cell_type": "code",
   "execution_count": 2,
   "source": [
    "# read in current & historical congressional member lists\r\n",
    "cols = [\"first_name\",\"middle_name\", \"last_name\", \"full_name\", \"type\", \"party\"]\r\n",
    "congress_historical = pd.read_csv(\"https://theunitedstates.io/congress-legislators/legislators-historical.csv\", usecols=cols)\r\n",
    "congress_current    = pd.read_csv(\"https://theunitedstates.io/congress-legislators/legislators-current.csv\",    usecols=cols)\r\n",
    "\r\n",
    "# narrow to senators (full_name <> na seems to weed out most old senators)\r\n",
    "congress_historical = congress_historical[(congress_historical.type == \"sen\") & (congress_historical.full_name.notna())]\r\n",
    "congress_current    = congress_current[(congress_current.type == \"sen\") & (congress_current.full_name.notna())]\r\n",
    "\r\n",
    "# concat them\r\n",
    "congress = pd.concat([congress_historical, congress_current])\r\n",
    "congress.head()"
   ],
   "outputs": [
    {
     "output_type": "execute_result",
     "data": {
      "text/html": [
       "<div>\n",
       "<style scoped>\n",
       "    .dataframe tbody tr th:only-of-type {\n",
       "        vertical-align: middle;\n",
       "    }\n",
       "\n",
       "    .dataframe tbody tr th {\n",
       "        vertical-align: top;\n",
       "    }\n",
       "\n",
       "    .dataframe thead th {\n",
       "        text-align: right;\n",
       "    }\n",
       "</style>\n",
       "<table border=\"1\" class=\"dataframe\">\n",
       "  <thead>\n",
       "    <tr style=\"text-align: right;\">\n",
       "      <th></th>\n",
       "      <th>last_name</th>\n",
       "      <th>first_name</th>\n",
       "      <th>middle_name</th>\n",
       "      <th>full_name</th>\n",
       "      <th>type</th>\n",
       "      <th>party</th>\n",
       "    </tr>\n",
       "  </thead>\n",
       "  <tbody>\n",
       "    <tr>\n",
       "      <th>11634</th>\n",
       "      <td>Inouye</td>\n",
       "      <td>Daniel</td>\n",
       "      <td>K.</td>\n",
       "      <td>Daniel K. Inouye</td>\n",
       "      <td>sen</td>\n",
       "      <td>Democrat</td>\n",
       "    </tr>\n",
       "    <tr>\n",
       "      <th>11635</th>\n",
       "      <td>Akaka</td>\n",
       "      <td>Daniel</td>\n",
       "      <td>Kahikina</td>\n",
       "      <td>Daniel K. Akaka</td>\n",
       "      <td>sen</td>\n",
       "      <td>Democrat</td>\n",
       "    </tr>\n",
       "    <tr>\n",
       "      <th>11636</th>\n",
       "      <td>Bingaman</td>\n",
       "      <td>Jeff</td>\n",
       "      <td>NaN</td>\n",
       "      <td>Jeff Bingaman</td>\n",
       "      <td>sen</td>\n",
       "      <td>Democrat</td>\n",
       "    </tr>\n",
       "    <tr>\n",
       "      <th>11637</th>\n",
       "      <td>Conrad</td>\n",
       "      <td>Kent</td>\n",
       "      <td>Kent</td>\n",
       "      <td>Kent Conrad</td>\n",
       "      <td>sen</td>\n",
       "      <td>Democrat</td>\n",
       "    </tr>\n",
       "    <tr>\n",
       "      <th>11638</th>\n",
       "      <td>Hutchison</td>\n",
       "      <td>Kay</td>\n",
       "      <td>Bailey</td>\n",
       "      <td>Kay Bailey Hutchison</td>\n",
       "      <td>sen</td>\n",
       "      <td>Republican</td>\n",
       "    </tr>\n",
       "  </tbody>\n",
       "</table>\n",
       "</div>"
      ],
      "text/plain": [
       "       last_name first_name middle_name             full_name type       party\n",
       "11634     Inouye     Daniel          K.      Daniel K. Inouye  sen    Democrat\n",
       "11635      Akaka     Daniel    Kahikina       Daniel K. Akaka  sen    Democrat\n",
       "11636   Bingaman       Jeff         NaN         Jeff Bingaman  sen    Democrat\n",
       "11637     Conrad       Kent        Kent           Kent Conrad  sen    Democrat\n",
       "11638  Hutchison        Kay      Bailey  Kay Bailey Hutchison  sen  Republican"
      ]
     },
     "metadata": {},
     "execution_count": 2
    }
   ],
   "metadata": {}
  },
  {
   "cell_type": "code",
   "execution_count": 3,
   "source": [
    "congress.to_csv(\"data/senators.csv\", index=False)"
   ],
   "outputs": [],
   "metadata": {}
  },
  {
   "cell_type": "markdown",
   "source": [
    "## Get daily senate trade summary file "
   ],
   "metadata": {}
  },
  {
   "cell_type": "code",
   "execution_count": 4,
   "source": [
    "# url = \"https://senate-stock-watcher-data.s3-us-west-2.amazonaws.com/aggregate/all_daily_summaries.json\"\r\n",
    "txns = pd.read_json(\"https://senate-stock-watcher-data.s3-us-west-2.amazonaws.com/aggregate/all_transactions.json\")\r\n",
    "\r\n",
    "# narrow columns\r\n",
    "txns = txns[[\"senator\", \"transaction_date\", \"disclosure_date\", \"ticker\", \"asset_description\", \"asset_type\", \"amount\"]]\r\n",
    "\r\n",
    "print(txns.shape)\r\n",
    "txns.head(1)"
   ],
   "outputs": [
    {
     "output_type": "stream",
     "name": "stdout",
     "text": [
      "(8831, 7)\n"
     ]
    },
    {
     "output_type": "execute_result",
     "data": {
      "text/html": [
       "<div>\n",
       "<style scoped>\n",
       "    .dataframe tbody tr th:only-of-type {\n",
       "        vertical-align: middle;\n",
       "    }\n",
       "\n",
       "    .dataframe tbody tr th {\n",
       "        vertical-align: top;\n",
       "    }\n",
       "\n",
       "    .dataframe thead th {\n",
       "        text-align: right;\n",
       "    }\n",
       "</style>\n",
       "<table border=\"1\" class=\"dataframe\">\n",
       "  <thead>\n",
       "    <tr style=\"text-align: right;\">\n",
       "      <th></th>\n",
       "      <th>senator</th>\n",
       "      <th>transaction_date</th>\n",
       "      <th>disclosure_date</th>\n",
       "      <th>ticker</th>\n",
       "      <th>asset_description</th>\n",
       "      <th>asset_type</th>\n",
       "      <th>amount</th>\n",
       "    </tr>\n",
       "  </thead>\n",
       "  <tbody>\n",
       "    <tr>\n",
       "      <th>0</th>\n",
       "      <td>Sheldon Whitehouse</td>\n",
       "      <td>08/30/2021</td>\n",
       "      <td>09/13/2021</td>\n",
       "      <td>BABA</td>\n",
       "      <td>Alibaba Group Holding Limited American Depositary</td>\n",
       "      <td>Stock</td>\n",
       "      <td>$1,001 - $15,000</td>\n",
       "    </tr>\n",
       "  </tbody>\n",
       "</table>\n",
       "</div>"
      ],
      "text/plain": [
       "              senator transaction_date disclosure_date ticker  \\\n",
       "0  Sheldon Whitehouse       08/30/2021      09/13/2021   BABA   \n",
       "\n",
       "                                   asset_description asset_type  \\\n",
       "0  Alibaba Group Holding Limited American Depositary      Stock   \n",
       "\n",
       "             amount  \n",
       "0  $1,001 - $15,000  "
      ]
     },
     "metadata": {},
     "execution_count": 4
    }
   ],
   "metadata": {}
  },
  {
   "cell_type": "code",
   "execution_count": 5,
   "source": [
    "txns.to_csv(\"data/txns_09132021.csv\", index=False)"
   ],
   "outputs": [],
   "metadata": {}
  },
  {
   "cell_type": "markdown",
   "source": [
    "## Join congress to txns\r\n",
    "First, standardize names for a successful merge"
   ],
   "metadata": {}
  },
  {
   "cell_type": "code",
   "execution_count": 6,
   "source": [
    "congress_to_replace = {\", IV\": \"\", \", III\": \"\", \"Tommy\": \"Thomas\", \", Jr.\": \"\", \"Bill Hagerty\": \"William Hagerty\", \r\n",
    "                       \"Mike Crapo\": \"Michael Crapo\", \"Joe Manchin\": \"Joseph Manchin\", \"Rob Portman\": \"Robert Portman\", \r\n",
    "                       \"Thom Tillis\": \"Thomas Tillis\", \"John Reed\": \"Jack Reed\", \"Tim Kaine\": \"Timothy Kaine\", \r\n",
    "                       \"Dan Sullivan\": \"Daniel Sullivan\", \"Bill Cassidy\": \"William Cassidy\", \"Jacky Rosen\": \"Jacklyn Rosen\"}\r\n",
    "              \r\n",
    "congress[\"name_cleaned\"] = congress[\"full_name\"].replace(congress_to_replace, regex=True)"
   ],
   "outputs": [],
   "metadata": {}
  },
  {
   "cell_type": "code",
   "execution_count": 7,
   "source": [
    "def clean_congress_name(fullname):\r\n",
    "    names = fullname.split(\" \")\r\n",
    "    fullname = names[0] + \" \" + names[-1]\r\n",
    "    return fullname\r\n",
    "\r\n",
    "congress[\"fullname_cleaned\"] = congress[\"name_cleaned\"].apply(clean_congress_name)"
   ],
   "outputs": [],
   "metadata": {}
  },
  {
   "cell_type": "code",
   "execution_count": 8,
   "source": [
    "txn_to_replace = {\", Jr.\": \"\", \", Iv\" : \"\", \"Ladda \": \"\", \"A. \": \"\", \" , Jr\": \"\", \"John F Reed\": \"Jack Reed\",\r\n",
    "                  \"Rafael\": \"Ted\", \", Iii\": \"\", \"Moran,\": \"Moran\", \"Ronald L Wyden\": \"Ron Wyden\",\r\n",
    "                  \"Mitchell Mcconnell\": \"Mitch McConnell\", \"Thomas Udall\": \"Tom Udall\"}\r\n",
    "\r\n",
    "txns[\"name_cleaned\"] = txns[\"senator\"].replace(txn_to_replace, regex=True)"
   ],
   "outputs": [],
   "metadata": {}
  },
  {
   "cell_type": "code",
   "execution_count": 9,
   "source": [
    "def get_first_last_name(row):\r\n",
    "    fullname = row[\"name_cleaned\"]\r\n",
    "    names = fullname.split(\" \")\r\n",
    "    first_name = names[0]\r\n",
    "    last_name = names[-1]\r\n",
    "    full_name = f\"{first_name} {last_name}\"\r\n",
    "    return full_name, first_name, last_name\r\n",
    "\r\n",
    "txns[[\"full_name\", \"first_name\", \"last_name\"]] = txns.apply(get_first_last_name, axis=1, result_type=\"expand\")"
   ],
   "outputs": [],
   "metadata": {}
  },
  {
   "cell_type": "markdown",
   "source": [
    "merge"
   ],
   "metadata": {}
  },
  {
   "cell_type": "code",
   "execution_count": 10,
   "source": [
    "merged = txns.merge(congress,\r\n",
    "                    left_on=\"full_name\",\r\n",
    "                    right_on=\"fullname_cleaned\",\r\n",
    "                    how=\"left\")\r\n",
    "merged.head()"
   ],
   "outputs": [
    {
     "output_type": "execute_result",
     "data": {
      "text/html": [
       "<div>\n",
       "<style scoped>\n",
       "    .dataframe tbody tr th:only-of-type {\n",
       "        vertical-align: middle;\n",
       "    }\n",
       "\n",
       "    .dataframe tbody tr th {\n",
       "        vertical-align: top;\n",
       "    }\n",
       "\n",
       "    .dataframe thead th {\n",
       "        text-align: right;\n",
       "    }\n",
       "</style>\n",
       "<table border=\"1\" class=\"dataframe\">\n",
       "  <thead>\n",
       "    <tr style=\"text-align: right;\">\n",
       "      <th></th>\n",
       "      <th>senator</th>\n",
       "      <th>transaction_date</th>\n",
       "      <th>disclosure_date</th>\n",
       "      <th>ticker</th>\n",
       "      <th>asset_description</th>\n",
       "      <th>asset_type</th>\n",
       "      <th>amount</th>\n",
       "      <th>name_cleaned_x</th>\n",
       "      <th>full_name_x</th>\n",
       "      <th>first_name_x</th>\n",
       "      <th>last_name_x</th>\n",
       "      <th>last_name_y</th>\n",
       "      <th>first_name_y</th>\n",
       "      <th>middle_name</th>\n",
       "      <th>full_name_y</th>\n",
       "      <th>type</th>\n",
       "      <th>party</th>\n",
       "      <th>name_cleaned_y</th>\n",
       "      <th>fullname_cleaned</th>\n",
       "    </tr>\n",
       "  </thead>\n",
       "  <tbody>\n",
       "    <tr>\n",
       "      <th>0</th>\n",
       "      <td>Sheldon Whitehouse</td>\n",
       "      <td>08/30/2021</td>\n",
       "      <td>09/13/2021</td>\n",
       "      <td>BABA</td>\n",
       "      <td>Alibaba Group Holding Limited American Depositary</td>\n",
       "      <td>Stock</td>\n",
       "      <td>$1,001 - $15,000</td>\n",
       "      <td>Sheldon Whitehouse</td>\n",
       "      <td>Sheldon Whitehouse</td>\n",
       "      <td>Sheldon</td>\n",
       "      <td>Whitehouse</td>\n",
       "      <td>Whitehouse</td>\n",
       "      <td>Sheldon</td>\n",
       "      <td>NaN</td>\n",
       "      <td>Sheldon Whitehouse</td>\n",
       "      <td>sen</td>\n",
       "      <td>Democrat</td>\n",
       "      <td>Sheldon Whitehouse</td>\n",
       "      <td>Sheldon Whitehouse</td>\n",
       "    </tr>\n",
       "    <tr>\n",
       "      <th>1</th>\n",
       "      <td>Sheldon Whitehouse</td>\n",
       "      <td>08/27/2021</td>\n",
       "      <td>09/13/2021</td>\n",
       "      <td>--</td>\n",
       "      <td>MACYS RETAIL HLDGS INC &lt;div class=\"text-muted\"...</td>\n",
       "      <td>Corporate Bond</td>\n",
       "      <td>$15,001 - $50,000</td>\n",
       "      <td>Sheldon Whitehouse</td>\n",
       "      <td>Sheldon Whitehouse</td>\n",
       "      <td>Sheldon</td>\n",
       "      <td>Whitehouse</td>\n",
       "      <td>Whitehouse</td>\n",
       "      <td>Sheldon</td>\n",
       "      <td>NaN</td>\n",
       "      <td>Sheldon Whitehouse</td>\n",
       "      <td>sen</td>\n",
       "      <td>Democrat</td>\n",
       "      <td>Sheldon Whitehouse</td>\n",
       "      <td>Sheldon Whitehouse</td>\n",
       "    </tr>\n",
       "    <tr>\n",
       "      <th>2</th>\n",
       "      <td>Sheldon Whitehouse</td>\n",
       "      <td>08/30/2021</td>\n",
       "      <td>09/13/2021</td>\n",
       "      <td>MCHP</td>\n",
       "      <td>Microchip Technology Incorporated - Common Stock</td>\n",
       "      <td>Stock</td>\n",
       "      <td>$15,001 - $50,000</td>\n",
       "      <td>Sheldon Whitehouse</td>\n",
       "      <td>Sheldon Whitehouse</td>\n",
       "      <td>Sheldon</td>\n",
       "      <td>Whitehouse</td>\n",
       "      <td>Whitehouse</td>\n",
       "      <td>Sheldon</td>\n",
       "      <td>NaN</td>\n",
       "      <td>Sheldon Whitehouse</td>\n",
       "      <td>sen</td>\n",
       "      <td>Democrat</td>\n",
       "      <td>Sheldon Whitehouse</td>\n",
       "      <td>Sheldon Whitehouse</td>\n",
       "    </tr>\n",
       "    <tr>\n",
       "      <th>3</th>\n",
       "      <td>Sheldon Whitehouse</td>\n",
       "      <td>08/30/2021</td>\n",
       "      <td>09/13/2021</td>\n",
       "      <td>T</td>\n",
       "      <td>AT&amp;amp;T Inc.</td>\n",
       "      <td>Stock</td>\n",
       "      <td>$15,001 - $50,000</td>\n",
       "      <td>Sheldon Whitehouse</td>\n",
       "      <td>Sheldon Whitehouse</td>\n",
       "      <td>Sheldon</td>\n",
       "      <td>Whitehouse</td>\n",
       "      <td>Whitehouse</td>\n",
       "      <td>Sheldon</td>\n",
       "      <td>NaN</td>\n",
       "      <td>Sheldon Whitehouse</td>\n",
       "      <td>sen</td>\n",
       "      <td>Democrat</td>\n",
       "      <td>Sheldon Whitehouse</td>\n",
       "      <td>Sheldon Whitehouse</td>\n",
       "    </tr>\n",
       "    <tr>\n",
       "      <th>4</th>\n",
       "      <td>Patrick J Toomey</td>\n",
       "      <td>01/16/2021</td>\n",
       "      <td>09/09/2021</td>\n",
       "      <td>--</td>\n",
       "      <td>Fitso (Exchanged) &lt;br&gt; Zomato (Received) &lt;div ...</td>\n",
       "      <td>Non-Public Stock</td>\n",
       "      <td>$1,001 - $15,000</td>\n",
       "      <td>Patrick J Toomey</td>\n",
       "      <td>Patrick Toomey</td>\n",
       "      <td>Patrick</td>\n",
       "      <td>Toomey</td>\n",
       "      <td>Toomey</td>\n",
       "      <td>Patrick</td>\n",
       "      <td>J.</td>\n",
       "      <td>Patrick J. Toomey</td>\n",
       "      <td>sen</td>\n",
       "      <td>Republican</td>\n",
       "      <td>Patrick J. Toomey</td>\n",
       "      <td>Patrick Toomey</td>\n",
       "    </tr>\n",
       "  </tbody>\n",
       "</table>\n",
       "</div>"
      ],
      "text/plain": [
       "              senator transaction_date disclosure_date ticker  \\\n",
       "0  Sheldon Whitehouse       08/30/2021      09/13/2021   BABA   \n",
       "1  Sheldon Whitehouse       08/27/2021      09/13/2021     --   \n",
       "2  Sheldon Whitehouse       08/30/2021      09/13/2021   MCHP   \n",
       "3  Sheldon Whitehouse       08/30/2021      09/13/2021      T   \n",
       "4    Patrick J Toomey       01/16/2021      09/09/2021     --   \n",
       "\n",
       "                                   asset_description        asset_type  \\\n",
       "0  Alibaba Group Holding Limited American Depositary             Stock   \n",
       "1  MACYS RETAIL HLDGS INC <div class=\"text-muted\"...    Corporate Bond   \n",
       "2   Microchip Technology Incorporated - Common Stock             Stock   \n",
       "3                                      AT&amp;T Inc.             Stock   \n",
       "4  Fitso (Exchanged) <br> Zomato (Received) <div ...  Non-Public Stock   \n",
       "\n",
       "              amount      name_cleaned_x         full_name_x first_name_x  \\\n",
       "0   $1,001 - $15,000  Sheldon Whitehouse  Sheldon Whitehouse      Sheldon   \n",
       "1  $15,001 - $50,000  Sheldon Whitehouse  Sheldon Whitehouse      Sheldon   \n",
       "2  $15,001 - $50,000  Sheldon Whitehouse  Sheldon Whitehouse      Sheldon   \n",
       "3  $15,001 - $50,000  Sheldon Whitehouse  Sheldon Whitehouse      Sheldon   \n",
       "4   $1,001 - $15,000    Patrick J Toomey      Patrick Toomey      Patrick   \n",
       "\n",
       "  last_name_x last_name_y first_name_y middle_name         full_name_y type  \\\n",
       "0  Whitehouse  Whitehouse      Sheldon         NaN  Sheldon Whitehouse  sen   \n",
       "1  Whitehouse  Whitehouse      Sheldon         NaN  Sheldon Whitehouse  sen   \n",
       "2  Whitehouse  Whitehouse      Sheldon         NaN  Sheldon Whitehouse  sen   \n",
       "3  Whitehouse  Whitehouse      Sheldon         NaN  Sheldon Whitehouse  sen   \n",
       "4      Toomey      Toomey      Patrick          J.   Patrick J. Toomey  sen   \n",
       "\n",
       "        party      name_cleaned_y    fullname_cleaned  \n",
       "0    Democrat  Sheldon Whitehouse  Sheldon Whitehouse  \n",
       "1    Democrat  Sheldon Whitehouse  Sheldon Whitehouse  \n",
       "2    Democrat  Sheldon Whitehouse  Sheldon Whitehouse  \n",
       "3    Democrat  Sheldon Whitehouse  Sheldon Whitehouse  \n",
       "4  Republican   Patrick J. Toomey      Patrick Toomey  "
      ]
     },
     "metadata": {},
     "execution_count": 10
    }
   ],
   "metadata": {}
  },
  {
   "cell_type": "code",
   "execution_count": 11,
   "source": [
    "# check for leaks\r\n",
    "merged[merged.fullname_cleaned.isna()].full_name_x.unique()"
   ],
   "outputs": [
    {
     "output_type": "execute_result",
     "data": {
      "text/plain": [
       "array([], dtype=object)"
      ]
     },
     "metadata": {},
     "execution_count": 11
    }
   ],
   "metadata": {}
  },
  {
   "cell_type": "code",
   "execution_count": 12,
   "source": [
    "# remove some extraneous name cols\r\n",
    "merged = merged.drop(columns=[\"first_name_x\", \"first_name_y\", \r\n",
    "                              \"last_name_x\", \"last_name_y\",\r\n",
    "                              \"name_cleaned_x\", \"full_name_x\"])"
   ],
   "outputs": [],
   "metadata": {}
  },
  {
   "cell_type": "code",
   "execution_count": 13,
   "source": [
    "merged.to_csv(\"data/txns_with_party.csv\", index=False)"
   ],
   "outputs": [],
   "metadata": {}
  }
 ],
 "metadata": {
  "orig_nbformat": 4,
  "language_info": {
   "name": "python",
   "version": "3.7.6",
   "mimetype": "text/x-python",
   "codemirror_mode": {
    "name": "ipython",
    "version": 3
   },
   "pygments_lexer": "ipython3",
   "nbconvert_exporter": "python",
   "file_extension": ".py"
  },
  "kernelspec": {
   "name": "python3",
   "display_name": "Python 3.7.6 64-bit ('base': conda)"
  },
  "interpreter": {
   "hash": "ccbba38901ec24f44857db8fbdc80adc76ee2162a7438bd46412d47e74351045"
  }
 },
 "nbformat": 4,
 "nbformat_minor": 2
}