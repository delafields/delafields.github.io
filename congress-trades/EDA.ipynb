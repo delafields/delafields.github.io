{
 "cells": [
  {
   "cell_type": "code",
   "execution_count": 2,
   "source": [
    "import pandas as pd\r\n",
    "\r\n",
    "df = pd.read_csv(\"data/txns_with_party.csv\")\r\n",
    "df.head()"
   ],
   "outputs": [
    {
     "output_type": "execute_result",
     "data": {
      "text/html": [
       "<div>\n",
       "<style scoped>\n",
       "    .dataframe tbody tr th:only-of-type {\n",
       "        vertical-align: middle;\n",
       "    }\n",
       "\n",
       "    .dataframe tbody tr th {\n",
       "        vertical-align: top;\n",
       "    }\n",
       "\n",
       "    .dataframe thead th {\n",
       "        text-align: right;\n",
       "    }\n",
       "</style>\n",
       "<table border=\"1\" class=\"dataframe\">\n",
       "  <thead>\n",
       "    <tr style=\"text-align: right;\">\n",
       "      <th></th>\n",
       "      <th>senator</th>\n",
       "      <th>transaction_date</th>\n",
       "      <th>disclosure_date</th>\n",
       "      <th>ticker</th>\n",
       "      <th>asset_description</th>\n",
       "      <th>asset_type</th>\n",
       "      <th>amount</th>\n",
       "      <th>middle_name</th>\n",
       "      <th>full_name_y</th>\n",
       "      <th>type</th>\n",
       "      <th>party</th>\n",
       "      <th>name_cleaned_y</th>\n",
       "      <th>fullname_cleaned</th>\n",
       "    </tr>\n",
       "  </thead>\n",
       "  <tbody>\n",
       "    <tr>\n",
       "      <th>0</th>\n",
       "      <td>Sheldon Whitehouse</td>\n",
       "      <td>08/30/2021</td>\n",
       "      <td>09/13/2021</td>\n",
       "      <td>BABA</td>\n",
       "      <td>Alibaba Group Holding Limited American Depositary</td>\n",
       "      <td>Stock</td>\n",
       "      <td>$1,001 - $15,000</td>\n",
       "      <td>NaN</td>\n",
       "      <td>Sheldon Whitehouse</td>\n",
       "      <td>sen</td>\n",
       "      <td>Democrat</td>\n",
       "      <td>Sheldon Whitehouse</td>\n",
       "      <td>Sheldon Whitehouse</td>\n",
       "    </tr>\n",
       "    <tr>\n",
       "      <th>1</th>\n",
       "      <td>Sheldon Whitehouse</td>\n",
       "      <td>08/27/2021</td>\n",
       "      <td>09/13/2021</td>\n",
       "      <td>--</td>\n",
       "      <td>MACYS RETAIL HLDGS INC &lt;div class=\"text-muted\"...</td>\n",
       "      <td>Corporate Bond</td>\n",
       "      <td>$15,001 - $50,000</td>\n",
       "      <td>NaN</td>\n",
       "      <td>Sheldon Whitehouse</td>\n",
       "      <td>sen</td>\n",
       "      <td>Democrat</td>\n",
       "      <td>Sheldon Whitehouse</td>\n",
       "      <td>Sheldon Whitehouse</td>\n",
       "    </tr>\n",
       "    <tr>\n",
       "      <th>2</th>\n",
       "      <td>Sheldon Whitehouse</td>\n",
       "      <td>08/30/2021</td>\n",
       "      <td>09/13/2021</td>\n",
       "      <td>MCHP</td>\n",
       "      <td>Microchip Technology Incorporated - Common Stock</td>\n",
       "      <td>Stock</td>\n",
       "      <td>$15,001 - $50,000</td>\n",
       "      <td>NaN</td>\n",
       "      <td>Sheldon Whitehouse</td>\n",
       "      <td>sen</td>\n",
       "      <td>Democrat</td>\n",
       "      <td>Sheldon Whitehouse</td>\n",
       "      <td>Sheldon Whitehouse</td>\n",
       "    </tr>\n",
       "    <tr>\n",
       "      <th>3</th>\n",
       "      <td>Sheldon Whitehouse</td>\n",
       "      <td>08/30/2021</td>\n",
       "      <td>09/13/2021</td>\n",
       "      <td>T</td>\n",
       "      <td>AT&amp;amp;T Inc.</td>\n",
       "      <td>Stock</td>\n",
       "      <td>$15,001 - $50,000</td>\n",
       "      <td>NaN</td>\n",
       "      <td>Sheldon Whitehouse</td>\n",
       "      <td>sen</td>\n",
       "      <td>Democrat</td>\n",
       "      <td>Sheldon Whitehouse</td>\n",
       "      <td>Sheldon Whitehouse</td>\n",
       "    </tr>\n",
       "    <tr>\n",
       "      <th>4</th>\n",
       "      <td>Patrick J Toomey</td>\n",
       "      <td>01/16/2021</td>\n",
       "      <td>09/09/2021</td>\n",
       "      <td>--</td>\n",
       "      <td>Fitso (Exchanged) &lt;br&gt; Zomato (Received) &lt;div ...</td>\n",
       "      <td>Non-Public Stock</td>\n",
       "      <td>$1,001 - $15,000</td>\n",
       "      <td>J.</td>\n",
       "      <td>Patrick J. Toomey</td>\n",
       "      <td>sen</td>\n",
       "      <td>Republican</td>\n",
       "      <td>Patrick J. Toomey</td>\n",
       "      <td>Patrick Toomey</td>\n",
       "    </tr>\n",
       "  </tbody>\n",
       "</table>\n",
       "</div>"
      ],
      "text/plain": [
       "              senator transaction_date disclosure_date ticker  \\\n",
       "0  Sheldon Whitehouse       08/30/2021      09/13/2021   BABA   \n",
       "1  Sheldon Whitehouse       08/27/2021      09/13/2021     --   \n",
       "2  Sheldon Whitehouse       08/30/2021      09/13/2021   MCHP   \n",
       "3  Sheldon Whitehouse       08/30/2021      09/13/2021      T   \n",
       "4    Patrick J Toomey       01/16/2021      09/09/2021     --   \n",
       "\n",
       "                                   asset_description        asset_type  \\\n",
       "0  Alibaba Group Holding Limited American Depositary             Stock   \n",
       "1  MACYS RETAIL HLDGS INC <div class=\"text-muted\"...    Corporate Bond   \n",
       "2   Microchip Technology Incorporated - Common Stock             Stock   \n",
       "3                                      AT&amp;T Inc.             Stock   \n",
       "4  Fitso (Exchanged) <br> Zomato (Received) <div ...  Non-Public Stock   \n",
       "\n",
       "              amount middle_name         full_name_y type       party  \\\n",
       "0   $1,001 - $15,000         NaN  Sheldon Whitehouse  sen    Democrat   \n",
       "1  $15,001 - $50,000         NaN  Sheldon Whitehouse  sen    Democrat   \n",
       "2  $15,001 - $50,000         NaN  Sheldon Whitehouse  sen    Democrat   \n",
       "3  $15,001 - $50,000         NaN  Sheldon Whitehouse  sen    Democrat   \n",
       "4   $1,001 - $15,000          J.   Patrick J. Toomey  sen  Republican   \n",
       "\n",
       "       name_cleaned_y    fullname_cleaned  \n",
       "0  Sheldon Whitehouse  Sheldon Whitehouse  \n",
       "1  Sheldon Whitehouse  Sheldon Whitehouse  \n",
       "2  Sheldon Whitehouse  Sheldon Whitehouse  \n",
       "3  Sheldon Whitehouse  Sheldon Whitehouse  \n",
       "4   Patrick J. Toomey      Patrick Toomey  "
      ]
     },
     "metadata": {},
     "execution_count": 2
    }
   ],
   "metadata": {}
  },
  {
   "cell_type": "markdown",
   "source": [
    "### Some light feature engineering & data prep"
   ],
   "metadata": {}
  },
  {
   "cell_type": "code",
   "execution_count": 3,
   "source": [
    "# shorten val buckets for cleaner plotting\r\n",
    "value_buckets = {'$1,001 - $15,000': \"$1K-$15K\", '$15,001 - $50,000': \"$15K-$50K\", '$50,001 - $100,000': \"$50K-100K\", \r\n",
    "                 '$100,001 - $250,000': \"$100K-$250K\", '$250,001 - $500,000': \"$250K-500K\", '$500,001 - $1,000,000': \"$500K-$1M\", \r\n",
    "                 '$5,000,001 - $25,000,000': \"$5M-$25M\", 'Unknown': \"UNKNWN\", '$1,000,001 - $5,000,000': \"$1M-$5M\", \r\n",
    "                 'Over $50,000,000': \">$50M\", '$25,000,001 - $50,000,000': \"$25M-50M\"}\r\n",
    "\r\n",
    "df[\"amount\"] = df[\"amount\"].replace(value_buckets)"
   ],
   "outputs": [],
   "metadata": {}
  },
  {
   "cell_type": "code",
   "execution_count": 4,
   "source": [
    "# convert date columns to datetime\r\n",
    "df[\"transaction_date\"] = pd.to_datetime(df[\"transaction_date\"], infer_datetime_format=True)\r\n",
    "df[\"disclosure_date\"] = pd.to_datetime(df[\"disclosure_date\"], infer_datetime_format=True)\r\n",
    "\r\n",
    "# calculate diff between txn_date and disclosure_date\r\n",
    "df[\"txn_disclosure_daydiff\"] = (df[\"disclosure_date\"] - df[\"transaction_date\"]).dt.days\r\n",
    "df[[\"transaction_date\", \"disclosure_date\", \"txn_disclosure_daydiff\"]].head()"
   ],
   "outputs": [
    {
     "output_type": "execute_result",
     "data": {
      "text/html": [
       "<div>\n",
       "<style scoped>\n",
       "    .dataframe tbody tr th:only-of-type {\n",
       "        vertical-align: middle;\n",
       "    }\n",
       "\n",
       "    .dataframe tbody tr th {\n",
       "        vertical-align: top;\n",
       "    }\n",
       "\n",
       "    .dataframe thead th {\n",
       "        text-align: right;\n",
       "    }\n",
       "</style>\n",
       "<table border=\"1\" class=\"dataframe\">\n",
       "  <thead>\n",
       "    <tr style=\"text-align: right;\">\n",
       "      <th></th>\n",
       "      <th>transaction_date</th>\n",
       "      <th>disclosure_date</th>\n",
       "      <th>txn_disclosure_daydiff</th>\n",
       "    </tr>\n",
       "  </thead>\n",
       "  <tbody>\n",
       "    <tr>\n",
       "      <th>0</th>\n",
       "      <td>2021-08-30</td>\n",
       "      <td>2021-09-13</td>\n",
       "      <td>14</td>\n",
       "    </tr>\n",
       "    <tr>\n",
       "      <th>1</th>\n",
       "      <td>2021-08-27</td>\n",
       "      <td>2021-09-13</td>\n",
       "      <td>17</td>\n",
       "    </tr>\n",
       "    <tr>\n",
       "      <th>2</th>\n",
       "      <td>2021-08-30</td>\n",
       "      <td>2021-09-13</td>\n",
       "      <td>14</td>\n",
       "    </tr>\n",
       "    <tr>\n",
       "      <th>3</th>\n",
       "      <td>2021-08-30</td>\n",
       "      <td>2021-09-13</td>\n",
       "      <td>14</td>\n",
       "    </tr>\n",
       "    <tr>\n",
       "      <th>4</th>\n",
       "      <td>2021-01-16</td>\n",
       "      <td>2021-09-09</td>\n",
       "      <td>236</td>\n",
       "    </tr>\n",
       "  </tbody>\n",
       "</table>\n",
       "</div>"
      ],
      "text/plain": [
       "  transaction_date disclosure_date  txn_disclosure_daydiff\n",
       "0       2021-08-30      2021-09-13                      14\n",
       "1       2021-08-27      2021-09-13                      17\n",
       "2       2021-08-30      2021-09-13                      14\n",
       "3       2021-08-30      2021-09-13                      14\n",
       "4       2021-01-16      2021-09-09                     236"
      ]
     },
     "metadata": {},
     "execution_count": 4
    }
   ],
   "metadata": {}
  },
  {
   "cell_type": "markdown",
   "source": [
    "## Plotting"
   ],
   "metadata": {}
  },
  {
   "cell_type": "code",
   "execution_count": 6,
   "source": [
    "import seaborn as sns"
   ],
   "outputs": [],
   "metadata": {}
  },
  {
   "cell_type": "markdown",
   "source": [
    "#### Number of days between transaction and disclosure"
   ],
   "metadata": {}
  },
  {
   "cell_type": "code",
   "execution_count": 36,
   "source": [
    "sns.distplot(df[\"txn_disclosure_daydiff\"])"
   ],
   "outputs": [
    {
     "output_type": "execute_result",
     "data": {
      "text/plain": [
       "<matplotlib.axes._subplots.AxesSubplot at 0x163f513d1c8>"
      ]
     },
     "metadata": {},
     "execution_count": 36
    },
    {
     "output_type": "display_data",
     "data": {
      "image/png": "[encoded data removed]",
      "text/plain": [
       "<Figure size 432x288 with 1 Axes>"
      ]
     },
     "metadata": {
      "needs_background": "light"
     }
    }
   ],
   "metadata": {}
  },
  {
   "cell_type": "code",
   "execution_count": 31,
   "source": [
    "ax = sns.violinplot(data=df, x=\"party\", y=\"txn_disclosure_daydiff\", palette=[\"blue\", \"red\", \"gray\"]) \\\r\n",
    "        .set(title=\"Days between transaction and disclosure dates\", xlabel=\"Party\", ylabel=\"daydiff\")"
   ],
   "outputs": [
    {
     "output_type": "display_data",
     "data": {
      "image/png": "[encoded data removed]",
      "text/plain": [
       "<Figure size 432x288 with 1 Axes>"
      ]
     },
     "metadata": {
      "needs_background": "light"
     }
    }
   ],
   "metadata": {}
  },
  {
   "cell_type": "markdown",
   "source": [
    "#### Number of transactions per party"
   ],
   "metadata": {}
  },
  {
   "cell_type": "code",
   "execution_count": 49,
   "source": [
    "txn_per_party = df.groupby(\"party\")          \\\r\n",
    "                  .agg({\"senator\": \"count\"}) \\\r\n",
    "                  .reset_index()             \\\r\n",
    "                  .rename(columns={\"senator\": \"count\"})\r\n",
    "\r\n",
    "sns.barplot(data=txn_per_party, x=\"party\", y=\"count\", \r\n",
    "            order=[\"Republican\", \"Democrat\", \"Independent\"], \r\n",
    "            palette=[\"red\", \"blue\", \"gray\"]) \\\r\n",
    "    .set(title=\"Num disclosed txns per major party\", xlabel=\"Party\", ylabel=\"# txns\")"
   ],
   "outputs": [
    {
     "output_type": "execute_result",
     "data": {
      "text/plain": [
       "[Text(0, 0.5, '# txns'),\n",
       " Text(0.5, 0, 'Party'),\n",
       " Text(0.5, 1.0, 'Num disclosed txns per major party')]"
      ]
     },
     "metadata": {},
     "execution_count": 49
    },
    {
     "output_type": "display_data",
     "data": {
      "image/png": "[encoded data removed]",
      "text/plain": [
       "<Figure size 432x288 with 1 Axes>"
      ]
     },
     "metadata": {
      "needs_background": "light"
     }
    }
   ],
   "metadata": {}
  },
  {
   "cell_type": "markdown",
   "source": [
    "#### Number of transactions per party per value bucket"
   ],
   "metadata": {}
  },
  {
   "cell_type": "code",
   "execution_count": 51,
   "source": [
    "txn_per_partybucket = df.groupby([\"party\", \"amount\"]) \\\r\n",
    "                        .agg({\"senator\": \"count\"})    \\\r\n",
    "                        .reset_index()                \\\r\n",
    "                        .rename(columns={\"senator\": \"count\"})"
   ],
   "outputs": [],
   "metadata": {}
  },
  {
   "cell_type": "code",
   "execution_count": 52,
   "source": [
    "ax = sns.barplot(data=txn_per_partybucket, x=\"amount\", y=\"count\", hue=\"party\", \r\n",
    "                 hue_order=[\"Republican\", \"Democrat\", \"Independent\"],\r\n",
    "                 order = [\"$1K-$15K\", \"$15K-$50K\", \"$50K-100K\", \"$100K-$250K\", \"$250K-500K\",\r\n",
    "                          \"$500K-$1M\", \"$1M-$5M\", \"$5M-$25M\", \"$25M-50M\", \">$50M\", \"UNKNWN\"],\r\n",
    "                 palette=[\"red\", \"blue\", \"gray\"])\r\n",
    "\r\n",
    "ax.set_xticklabels(ax.get_xticklabels(), rotation = 30)\r\n",
    "ax.set(xlabel=\"Value bucket\", ylabel=\"# txns\", title=\"Num disclosed txns per major party\")\r\n",
    "ax.legend(loc='upper right')"
   ],
   "outputs": [
    {
     "output_type": "execute_result",
     "data": {
      "text/plain": [
       "<matplotlib.legend.Legend at 0x163f5a5b988>"
      ]
     },
     "metadata": {},
     "execution_count": 52
    },
    {
     "output_type": "display_data",
     "data": {
      "image/png": "[encoded data removed]",
      "text/plain": [
       "<Figure size 432x288 with 1 Axes>"
      ]
     },
     "metadata": {
      "needs_background": "light"
     }
    }
   ],
   "metadata": {}
  },
  {
   "cell_type": "markdown",
   "source": [
    "Top 10 traders"
   ],
   "metadata": {}
  },
  {
   "cell_type": "code",
   "execution_count": 60,
   "source": [
    "top_traders = df.groupby([\"senator\", \"party\"])      \\\r\n",
    "                .agg({\"transaction_date\": \"count\"}) \\\r\n",
    "                .reset_index()                      \\\r\n",
    "                .rename(columns={\"transaction_date\": \"count\"}) \\\r\n",
    "                .nlargest(10, \"count\")\r\n",
    "                \r\n",
    "sns.barplot(data=top_traders, x=\"count\", y=\"senator\", hue=\"party\", palette=[\"red\", \"blue\"]) \\\r\n",
    "    .set(xlabel=\"# disclosed txns\", ylabel=None, title=\"Top 10 traders by disclosed txns\")"
   ],
   "outputs": [
    {
     "output_type": "execute_result",
     "data": {
      "text/plain": [
       "[Text(0, 0.5, ''),\n",
       " Text(0.5, 0, '# disclosed txns'),\n",
       " Text(0.5, 1.0, 'Top 10 traders by disclosed txns')]"
      ]
     },
     "metadata": {},
     "execution_count": 60
    },
    {
     "output_type": "display_data",
     "data": {
      "image/png": "[encoded data removed]",
      "text/plain": [
       "<Figure size 432x288 with 1 Axes>"
      ]
     },
     "metadata": {
      "needs_background": "light"
     }
    }
   ],
   "metadata": {}
  },
  {
   "cell_type": "markdown",
   "source": [
    "### What I'm actually here to see\r\n",
    "\r\n",
    "Aggregate trades by month, year and party. See if there is a remotely linear trend that could be projected"
   ],
   "metadata": {}
  },
  {
   "cell_type": "code",
   "execution_count": 61,
   "source": [
    "def getYearMonth(date):\r\n",
    "    day = \"01\"\r\n",
    "    month = date.dt.to_period(\"M\")\r\n",
    "    year = date.dt.to_period(\"Y\")\r\n",
    "    return f\"{year}-{month}-{date}\"\r\n",
    "\r\n",
    "df[\"txn_yearmonth\"] = df[\"transaction_date\"].apply(lambda dt: dt.replace(day=1))"
   ],
   "outputs": [],
   "metadata": {}
  },
  {
   "cell_type": "code",
   "execution_count": 63,
   "source": [
    "trades_per_period = df.groupby([\"txn_yearmonth\", \"party\"]).agg({\"senator\": \"count\"}).reset_index().rename(columns={\"senator\": \"count\"})\r\n",
    "trades_per_period"
   ],
   "outputs": [
    {
     "output_type": "execute_result",
     "data": {
      "text/html": [
       "<div>\n",
       "<style scoped>\n",
       "    .dataframe tbody tr th:only-of-type {\n",
       "        vertical-align: middle;\n",
       "    }\n",
       "\n",
       "    .dataframe tbody tr th {\n",
       "        vertical-align: top;\n",
       "    }\n",
       "\n",
       "    .dataframe thead th {\n",
       "        text-align: right;\n",
       "    }\n",
       "</style>\n",
       "<table border=\"1\" class=\"dataframe\">\n",
       "  <thead>\n",
       "    <tr style=\"text-align: right;\">\n",
       "      <th></th>\n",
       "      <th>txn_yearmonth</th>\n",
       "      <th>party</th>\n",
       "      <th>count</th>\n",
       "    </tr>\n",
       "  </thead>\n",
       "  <tbody>\n",
       "    <tr>\n",
       "      <th>0</th>\n",
       "      <td>2012-06-01</td>\n",
       "      <td>Republican</td>\n",
       "      <td>1</td>\n",
       "    </tr>\n",
       "    <tr>\n",
       "      <th>1</th>\n",
       "      <td>2012-07-01</td>\n",
       "      <td>Democrat</td>\n",
       "      <td>1</td>\n",
       "    </tr>\n",
       "    <tr>\n",
       "      <th>2</th>\n",
       "      <td>2012-08-01</td>\n",
       "      <td>Democrat</td>\n",
       "      <td>3</td>\n",
       "    </tr>\n",
       "    <tr>\n",
       "      <th>3</th>\n",
       "      <td>2012-08-01</td>\n",
       "      <td>Republican</td>\n",
       "      <td>7</td>\n",
       "    </tr>\n",
       "    <tr>\n",
       "      <th>4</th>\n",
       "      <td>2012-09-01</td>\n",
       "      <td>Democrat</td>\n",
       "      <td>4</td>\n",
       "    </tr>\n",
       "    <tr>\n",
       "      <th>...</th>\n",
       "      <td>...</td>\n",
       "      <td>...</td>\n",
       "      <td>...</td>\n",
       "    </tr>\n",
       "    <tr>\n",
       "      <th>262</th>\n",
       "      <td>2021-06-01</td>\n",
       "      <td>Republican</td>\n",
       "      <td>17</td>\n",
       "    </tr>\n",
       "    <tr>\n",
       "      <th>263</th>\n",
       "      <td>2021-07-01</td>\n",
       "      <td>Democrat</td>\n",
       "      <td>26</td>\n",
       "    </tr>\n",
       "    <tr>\n",
       "      <th>264</th>\n",
       "      <td>2021-07-01</td>\n",
       "      <td>Republican</td>\n",
       "      <td>36</td>\n",
       "    </tr>\n",
       "    <tr>\n",
       "      <th>265</th>\n",
       "      <td>2021-08-01</td>\n",
       "      <td>Democrat</td>\n",
       "      <td>12</td>\n",
       "    </tr>\n",
       "    <tr>\n",
       "      <th>266</th>\n",
       "      <td>2021-08-01</td>\n",
       "      <td>Republican</td>\n",
       "      <td>17</td>\n",
       "    </tr>\n",
       "  </tbody>\n",
       "</table>\n",
       "<p>267 rows × 3 columns</p>\n",
       "</div>"
      ],
      "text/plain": [
       "    txn_yearmonth       party  count\n",
       "0      2012-06-01  Republican      1\n",
       "1      2012-07-01    Democrat      1\n",
       "2      2012-08-01    Democrat      3\n",
       "3      2012-08-01  Republican      7\n",
       "4      2012-09-01    Democrat      4\n",
       "..            ...         ...    ...\n",
       "262    2021-06-01  Republican     17\n",
       "263    2021-07-01    Democrat     26\n",
       "264    2021-07-01  Republican     36\n",
       "265    2021-08-01    Democrat     12\n",
       "266    2021-08-01  Republican     17\n",
       "\n",
       "[267 rows x 3 columns]"
      ]
     },
     "metadata": {},
     "execution_count": 63
    }
   ],
   "metadata": {}
  },
  {
   "cell_type": "code",
   "execution_count": 66,
   "source": [
    "sns.lineplot(data = trades_per_period, x=\"txn_yearmonth\", y=\"count\", hue=\"party\", palette=[\"red\", \"blue\", \"gray\"]) \\\r\n",
    "   .set(xlabel=\"txn date\", ylabel=\"# txns\", title=\"Txns time series\")"
   ],
   "outputs": [
    {
     "output_type": "execute_result",
     "data": {
      "text/plain": [
       "[Text(0, 0.5, '# txns'),\n",
       " Text(0.5, 0, 'txn date'),\n",
       " Text(0.5, 1.0, 'Txns time series')]"
      ]
     },
     "metadata": {},
     "execution_count": 66
    },
    {
     "output_type": "display_data",
     "data": {
      "image/png": "[encoded data removed]",
      "text/plain": [
       "<Figure size 432x288 with 1 Axes>"
      ]
     },
     "metadata": {
      "needs_background": "light"
     }
    }
   ],
   "metadata": {}
  },
  {
   "cell_type": "markdown",
   "source": [
    "This data is probably extra spikey because I set every transaction date to the 1st of the month. Linearity is palpable. Maybe there's some seasonality here? Maybe not. I'll try doing some time series forecasting on it anyway."
   ],
   "metadata": {}
  }
 ],
 "metadata": {
  "orig_nbformat": 4,
  "language_info": {
   "name": "python",
   "version": "3.7.6",
   "mimetype": "text/x-python",
   "codemirror_mode": {
    "name": "ipython",
    "version": 3
   },
   "pygments_lexer": "ipython3",
   "nbconvert_exporter": "python",
   "file_extension": ".py"
  },
  "kernelspec": {
   "name": "python3",
   "display_name": "Python 3.7.6 64-bit ('base': conda)"
  },
  "interpreter": {
   "hash": "ccbba38901ec24f44857db8fbdc80adc76ee2162a7438bd46412d47e74351045"
  }
 },
 "nbformat": 4,
 "nbformat_minor": 2
}